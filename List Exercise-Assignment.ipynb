{
 "cells": [
  {
   "cell_type": "code",
   "execution_count": 4,
   "id": "aa2fcfe7",
   "metadata": {},
   "outputs": [
    {
     "name": "stdout",
     "output_type": "stream",
     "text": [
      "sum all the items = 26\n"
     ]
    }
   ],
   "source": [
    "##1. Write a Python program to sum all the items Sample Output [1,7,-10,34,2,-8]\n",
    "Sum all the items = 26\n",
    "\n",
    "Numbers = [1,7,-10,34,2,-8]\n",
    "sum_of_items = sum(Numbers)\n",
    "print(\"sum all the items =\", sum_of_items)"
   ]
  },
  {
   "cell_type": "code",
   "execution_count": 5,
   "id": "6af34255",
   "metadata": {},
   "outputs": [
    {
     "name": "stdout",
     "output_type": "stream",
     "text": [
      "Multiply all the items in a list: 1680\n"
     ]
    }
   ],
   "source": [
    "##2. Write a Python program to multiply all the items in a list Sample Output [3,4,5,4,7]\n",
    "Multiply all the items in a list : 1680\n",
    "\n",
    "numbers = [3, 4, 5, 4, 7]\n",
    "result = 1\n",
    "for num in numbers:\n",
    "    result *= num\n",
    "print(\"Multiply all the items in a list:\", result)"
   ]
  },
  {
   "cell_type": "code",
   "execution_count": 6,
   "id": "b085d53a",
   "metadata": {},
   "outputs": [
    {
     "name": "stdout",
     "output_type": "stream",
     "text": [
      "Largest Number: 34\n"
     ]
    }
   ],
   "source": [
    "##3. Write a Python program to get the largest number from a list Sample Output\n",
    "[1,7,10,34,2,8]\n",
    "Largest Number : 34\n",
    "\n",
    "numbers = [1, 7, 10, 34, 2, 8]\n",
    "largest_number = max(numbers)\n",
    "print(\"Largest Number:\", largest_number)"
   ]
  },
  {
   "cell_type": "code",
   "execution_count": 7,
   "id": "a53d3cf5",
   "metadata": {},
   "outputs": [
    {
     "name": "stdout",
     "output_type": "stream",
     "text": [
      "Smallest Number:  2\n"
     ]
    }
   ],
   "source": [
    "##4. Write a Python program to get the smallest number from a list Sample Output\n",
    "[51,7,10,34,2,8]\n",
    "Smallest Number : 2\n",
    "\n",
    "numbers = [51, 7, 10, 34, 2, 8]\n",
    "smallest_number = min(numbers)\n",
    "print(\"Smallest Number: \",smallest_number)"
   ]
  },
  {
   "cell_type": "code",
   "execution_count": 9,
   "id": "bb3b46ec",
   "metadata": {},
   "outputs": [
    {
     "name": "stdout",
     "output_type": "stream",
     "text": [
      "First and Last Character are same: 2\n"
     ]
    }
   ],
   "source": [
    "##5. Write a Python program to count the number of strings where the string length is 2 or more and the first and last character are same from a given list of strings\n",
    "Sample Output\n",
    "['abc', 'xyz', 'aba', '1221']\n",
    "First and Last Character are same : 2\n",
    "    \n",
    "    \n",
    "strings = ['abc', 'xyz', 'aba', '1221']\n",
    "count = 0\n",
    "for s in strings:\n",
    "    if len(s) >= 2 and s[0] == s[-1]:\n",
    "        count += 1\n",
    "print(\"First and Last Character are same:\", count)"
   ]
  },
  {
   "cell_type": "code",
   "execution_count": 10,
   "id": "1c957d51",
   "metadata": {},
   "outputs": [
    {
     "name": "stdout",
     "output_type": "stream",
     "text": [
      "{1, 2, 3, 4, 5, 6, 7, 8}\n"
     ]
    }
   ],
   "source": [
    "##6. Write a Python program to remove duplicates from a list Sample Output\n",
    "[1,2,3,7,2,1,5,6,4,8,5,4]\n",
    "{1,2,3,4,5,6,7,8}\n",
    "\n",
    "\n",
    "A = [1, 2, 3, 7, 2, 1, 5, 6, 4, 8, 5, 4]\n",
    "unique_set = set(A)\n",
    "unique_list = list(unique_set)\n",
    "print(unique_set)"
   ]
  },
  {
   "cell_type": "code",
   "execution_count": 4,
   "id": "1da09609",
   "metadata": {},
   "outputs": [
    {
     "name": "stdout",
     "output_type": "stream",
     "text": [
      "List is Not Empty\n"
     ]
    }
   ],
   "source": [
    "###7. Write a Python program to check a list is empty or not Sample Output\n",
    "[34,45,6,5,4,56,7]\n",
    "List is Not Empty\n",
    "\n",
    "\n",
    "\n",
    "b = [34, 45, 6, 5, 4, 56, 7]\n",
    "if b:\n",
    "    print(\"List is Not Empty\")"
   ]
  },
  {
   "cell_type": "code",
   "execution_count": 12,
   "id": "3a267b04",
   "metadata": {},
   "outputs": [
    {
     "name": "stdout",
     "output_type": "stream",
     "text": [
      "Clone or Copy a List: [10, 22, 44, 23, 4]\n"
     ]
    }
   ],
   "source": [
    "##8. Write a Python program to clone or copy a list Sample Output\n",
    "[10, 22, 44, 23, 4]\n",
    "Clone or Copy a List : [10, 22, 44, 23, 4]\n",
    "\n",
    "\n",
    "list = [10, 22, 44, 23, 4]\n",
    "b = list[:]\n",
    "print(\"Clone or Copy a List:\", b)"
   ]
  },
  {
   "cell_type": "code",
   "execution_count": 13,
   "id": "e87445c8",
   "metadata": {},
   "outputs": [
    {
     "name": "stdout",
     "output_type": "stream",
     "text": [
      "Find the List of Words that are Longer than n from a given List of Words\n",
      "Given value of n = 4\n",
      "['Words', 'Longer', 'given', 'Words']\n"
     ]
    }
   ],
   "source": [
    "### 9. Write a Python program to find the list of words that are longer than n from a given list of words\n",
    "Sample Output \n",
    "Find the List of Words that are Longer than n from a given List of Words Given value of n = 4 \n",
    "['Words', 'Longer', 'given', 'Words'] \n",
    "\n",
    "\n",
    "word_list = ['Find', 'the', 'List', 'of', 'Words', 'that', 'are', 'Longer', 'than', 'n', 'from', 'a', 'given', 'List', 'of', 'Words']\n",
    "n = 4\n",
    "longer_words = [word for word in word_list if len(word) > n]\n",
    "print(\"Find the List of Words that are Longer than n from a given List of Words\")\n",
    "print(\"Given value of n =\", n)\n",
    "print(longer_words)"
   ]
  },
  {
   "cell_type": "code",
   "execution_count": 15,
   "id": "7effbb86",
   "metadata": {},
   "outputs": [
    {
     "name": "stdout",
     "output_type": "stream",
     "text": [
      "Enter the first list: 25\n",
      "Enter the second list: 12\n",
      "Lists do not have a common member\n"
     ]
    }
   ],
   "source": [
    "##10. Write a Program that get two lists as input and check if they have at least one common member\n",
    "Sample Output \n",
    "[1,2,3,4,5] \n",
    "[5,6,7,8,9] \n",
    "Lists have at least one common member\n",
    "\n",
    "a = input(\"Enter the first list: \").split()\n",
    "b = input(\"Enter the second list: \").split()\n",
    "a = [int(item) for item in a]\n",
    "b = [int(item) for item in b]\n",
    "common_member = any(item in a for item in b)\n",
    "if common_member:\n",
    "    print(\"Lists have at least one common member\")\n",
    "else:\n",
    "    print(\"Lists do not have a common member\")"
   ]
  },
  {
   "cell_type": "code",
   "execution_count": 8,
   "id": "f8163d6c",
   "metadata": {},
   "outputs": [
    {
     "ename": "NameError",
     "evalue": "name 'remove_elements_by_indices' is not defined",
     "output_type": "error",
     "traceback": [
      "\u001b[1;31m---------------------------------------------------------------------------\u001b[0m",
      "\u001b[1;31mNameError\u001b[0m                                 Traceback (most recent call last)",
      "Cell \u001b[1;32mIn[8], line 8\u001b[0m\n\u001b[0;32m      6\u001b[0m a \u001b[38;5;241m=\u001b[39m [\u001b[38;5;124m\"\u001b[39m\u001b[38;5;124mCat\u001b[39m\u001b[38;5;124m\"\u001b[39m, \u001b[38;5;124m\"\u001b[39m\u001b[38;5;124mDog\u001b[39m\u001b[38;5;124m\"\u001b[39m, \u001b[38;5;124m\"\u001b[39m\u001b[38;5;124mElephant\u001b[39m\u001b[38;5;124m\"\u001b[39m, \u001b[38;5;124m\"\u001b[39m\u001b[38;5;124mFox\u001b[39m\u001b[38;5;124m\"\u001b[39m, \u001b[38;5;124m\"\u001b[39m\u001b[38;5;124mTiger\u001b[39m\u001b[38;5;124m\"\u001b[39m, \u001b[38;5;124m\"\u001b[39m\u001b[38;5;124mLion\u001b[39m\u001b[38;5;124m\"\u001b[39m, \u001b[38;5;124m\"\u001b[39m\u001b[38;5;124mPonda\u001b[39m\u001b[38;5;124m\"\u001b[39m]\n\u001b[0;32m      7\u001b[0m remove \u001b[38;5;241m=\u001b[39m [\u001b[38;5;241m0\u001b[39m, \u001b[38;5;241m4\u001b[39m, \u001b[38;5;241m5\u001b[39m]\n\u001b[1;32m----> 8\u001b[0m filtered_list \u001b[38;5;241m=\u001b[39m remove_elements_by_indices(a, remove)\n\u001b[0;32m      9\u001b[0m \u001b[38;5;28mprint\u001b[39m(a)\n\u001b[0;32m     10\u001b[0m \u001b[38;5;28mprint\u001b[39m(filtered_list)\n",
      "\u001b[1;31mNameError\u001b[0m: name 'remove_elements_by_indices' is not defined"
     ]
    }
   ],
   "source": [
    "\n",
    "####11. Write a Python program to print a specified list after removing the 0th, 4th and 5th elements. (enumerate)\n",
    "##Sample Output \n",
    "###[\"Cat\", \"Dog\", \"Elephant\", \"Fox\", \"Tiger\", \"Lion\", \"Ponda\"] ['Dog', 'Elephant', 'Fox', 'Ponda'] \n",
    "\n",
    "\n",
    "a = [\"Cat\", \"Dog\", \"Elephant\", \"Fox\", \"Tiger\", \"Lion\", \"Ponda\"]\n",
    "remove = [0, 4, 5]\n",
    "filtered_list = remove_elements_by_indices(a, remove)\n",
    "print(a)\n",
    "print(filtered_list)"
   ]
  },
  {
   "cell_type": "code",
   "execution_count": 9,
   "id": "f1494110",
   "metadata": {},
   "outputs": [
    {
     "ename": "NameError",
     "evalue": "name 'remove_even_numbers' is not defined",
     "output_type": "error",
     "traceback": [
      "\u001b[1;31m---------------------------------------------------------------------------\u001b[0m",
      "\u001b[1;31mNameError\u001b[0m                                 Traceback (most recent call last)",
      "Cell \u001b[1;32mIn[9], line 2\u001b[0m\n\u001b[0;32m      1\u001b[0m my_list \u001b[38;5;241m=\u001b[39m [\u001b[38;5;241m7\u001b[39m, \u001b[38;5;241m32\u001b[39m, \u001b[38;5;241m81\u001b[39m, \u001b[38;5;241m20\u001b[39m, \u001b[38;5;241m25\u001b[39m, \u001b[38;5;241m14\u001b[39m, \u001b[38;5;241m23\u001b[39m, \u001b[38;5;241m27\u001b[39m]\n\u001b[1;32m----> 2\u001b[0m filtered_list \u001b[38;5;241m=\u001b[39m remove_even_numbers(my_list)\n\u001b[0;32m      3\u001b[0m \u001b[38;5;28mprint\u001b[39m(my_list)\n\u001b[0;32m      4\u001b[0m \u001b[38;5;28mprint\u001b[39m(filtered_list)\n",
      "\u001b[1;31mNameError\u001b[0m: name 'remove_even_numbers' is not defined"
     ]
    }
   ],
   "source": [
    "#### 12. Write a Python program to print the numbers of a specified list after removing even numbers from it\n",
    "Sample Output \n",
    "[7,32,81,20,25,14,23,27] [7, 81, 25, 23, 27] \n",
    "\n",
    "\n",
    "\n",
    "my_list = [7, 32, 81, 20, 25, 14, 23, 27]\n",
    "filtered_list = remove_even_numbers(my_list)\n",
    "print(my_list)\n",
    "print(filtered_list)"
   ]
  },
  {
   "cell_type": "code",
   "execution_count": 12,
   "id": "7649c3c7",
   "metadata": {},
   "outputs": [
    {
     "name": "stdout",
     "output_type": "stream",
     "text": [
      "['Fox', 'Elephant', 'Lion', 'Dog', 'Ponda', 'Cat', 'Tiger']\n"
     ]
    }
   ],
   "source": [
    "### 13. Write a Python program to shuffle and print a specified list (shuffle) \n",
    "Sample Output\n",
    "[\"Cat\", \"Dog\", \"Elephant\", \"Fox\", \"Tiger\", \"Lion\", \"Ponda\"]\n",
    "['Fox', 'Cat', 'Tiger', 'Lion', 'Dog', 'Ponda', 'Elephant']\n",
    "\n",
    "\n",
    "import random\n",
    "x = [\"Cat\", \"Dog\", \"Elephant\", \"Fox\", \"Tiger\", \"Lion\", \"Ponda\"]\n",
    "random.shuffle(x)\n",
    "print(x)"
   ]
  },
  {
   "cell_type": "code",
   "execution_count": 13,
   "id": "9df2bf95",
   "metadata": {},
   "outputs": [
    {
     "name": "stdout",
     "output_type": "stream",
     "text": [
      "First 5 elements: [1, 4, 9, 16, 25]\n",
      "Last 5 elements: [676, 729, 784, 841, 900]\n"
     ]
    }
   ],
   "source": [
    "###14. Write a Python program to generate and print a list of first and last 5 elements where the values are square of numbers between 1 and 30\n",
    "Sample Output \n",
    "First 5 elements : [1, 4, 9, 16, 25] \n",
    "Last 5 elements : [625, 676, 729, 784, 841]\n",
    "    \n",
    "    \n",
    "squares_list = [x ** 2 for x in range(1, 31)]\n",
    "first_5_elements = squares_list[:5]\n",
    "last_5_elements = squares_list[-5:]\n",
    "print(\"First 5 elements:\", first_5_elements)\n",
    "print(\"Last 5 elements:\", last_5_elements)"
   ]
  },
  {
   "cell_type": "code",
   "execution_count": 15,
   "id": "c97586ce",
   "metadata": {},
   "outputs": [
    {
     "ename": "TypeError",
     "evalue": "'list' object is not callable",
     "output_type": "error",
     "traceback": [
      "\u001b[1;31m---------------------------------------------------------------------------\u001b[0m",
      "\u001b[1;31mTypeError\u001b[0m                                 Traceback (most recent call last)",
      "Cell \u001b[1;32mIn[15], line 3\u001b[0m\n\u001b[0;32m      1\u001b[0m \u001b[38;5;28;01mimport\u001b[39;00m \u001b[38;5;21;01mitertools\u001b[39;00m\n\u001b[0;32m      2\u001b[0m my_list \u001b[38;5;241m=\u001b[39m [\u001b[38;5;241m1\u001b[39m, \u001b[38;5;241m2\u001b[39m, \u001b[38;5;241m3\u001b[39m]\n\u001b[1;32m----> 3\u001b[0m permutations \u001b[38;5;241m=\u001b[39m \u001b[38;5;28mlist\u001b[39m(itertools\u001b[38;5;241m.\u001b[39mpermutations(my_list))\n\u001b[0;32m      4\u001b[0m \u001b[38;5;28mprint\u001b[39m(permutations)\n",
      "\u001b[1;31mTypeError\u001b[0m: 'list' object is not callable"
     ]
    }
   ],
   "source": [
    "####15. Write a Python program to generate all permutations of a list in Python. (itertools) Sample Output\n",
    "[1,2,3]\n",
    "[(1, 2, 3), (1, 3, 2), (2, 1, 3), (2, 3, 1), (3, 1, 2), (3, 2, 1)]\n",
    "\n",
    "\n",
    "import itertools\n",
    "my_list = [1, 2, 3]\n",
    "permutations = list(itertools.permutations(my_list))\n",
    "print(permutations)"
   ]
  },
  {
   "cell_type": "code",
   "execution_count": 16,
   "id": "ea036277",
   "metadata": {},
   "outputs": [
    {
     "name": "stdout",
     "output_type": "stream",
     "text": [
      "Tutor Joes\n"
     ]
    }
   ],
   "source": [
    "\n",
    "####16. Write a Python program to convert a list of characters into a string \n",
    "Sample Output\n",
    "['T','u','t','o','r',' ','J','o','e','s']\n",
    "Tutor Joes\n",
    "\n",
    "\n",
    "a = ['T','u','t','o','r',' ','J','o','e','s']\n",
    "b = ''.join(a)\n",
    "print(b)"
   ]
  },
  {
   "cell_type": "code",
   "execution_count": 17,
   "id": "baa0947a",
   "metadata": {},
   "outputs": [
    {
     "name": "stdout",
     "output_type": "stream",
     "text": [
      "Index Number of Item = 2\n"
     ]
    }
   ],
   "source": [
    "### 17. Write a Python program to find the index of an item in a specified list Sample Output\n",
    "[20, 70, 30, 90, 10, 30, 90, 10, 80]\n",
    "Item to find the index of 30\n",
    "Index Number of Item = 2\n",
    "\n",
    "\n",
    "my_list = [20, 70, 30, 90, 10, 30, 90, 10, 80]\n",
    "item_to_find = 30\n",
    "if item_to_find in my_list:\n",
    "    index_number = my_list.index(item_to_find)\n",
    "    print(\"Index Number of Item =\", index_number)\n",
    "else:\n",
    "    print(\"Item not found in the list.\")"
   ]
  },
  {
   "cell_type": "code",
   "execution_count": 18,
   "id": "b993e752",
   "metadata": {},
   "outputs": [
    {
     "name": "stdout",
     "output_type": "stream",
     "text": [
      "[20, 30, 70, 30, 90, 10, 30, 20, 70, 90, 10, 80]\n"
     ]
    }
   ],
   "source": [
    "####18. Write a Python program to flatten a shallow list Sample Output\n",
    "[[20,30,70],[30,90,10], [30,20], [70,90,10,80]]\n",
    "[20, 30, 70, 30, 90, 10, 30, 20, 70, 90, 10, 80]\n",
    "\n",
    "shallow_list = [[20, 30, 70], [30, 90, 10], [30, 20], [70, 90, 10, 80]]\n",
    "flattened_list = [item for sublist in shallow_list for item in sublist]\n",
    "print(flattened_list)"
   ]
  },
  {
   "cell_type": "code",
   "execution_count": 19,
   "id": "b4135a43",
   "metadata": {},
   "outputs": [
    {
     "name": "stdout",
     "output_type": "stream",
     "text": [
      "[10, 20, 30, 40, 'Cat', 'Dog', 'Lion', 'Ponda']\n"
     ]
    }
   ],
   "source": [
    "####19. Write a Python program to add a list to the second list Sample Output\n",
    "[10, 20, 30, 40]\n",
    "[\"Cat\", \"Dog\", \"Lion\", \"Ponda\"]\n",
    "[10, 20, 30, 40, 'Cat', 'Dog', 'Lion', 'Ponda']\n",
    "\n",
    "list1 = [10, 20, 30, 40]\n",
    "list2 = [\"Cat\", \"Dog\", \"Lion\", \"Ponda\"]\n",
    "result = list1 + list2\n",
    "print(result)"
   ]
  },
  {
   "cell_type": "code",
   "execution_count": 20,
   "id": "cf4d916e",
   "metadata": {},
   "outputs": [
    {
     "name": "stdout",
     "output_type": "stream",
     "text": [
      "Item randomly from a list: Cat\n"
     ]
    }
   ],
   "source": [
    "####20. Write a Python program to select an item randomly from a list Using random.choice() \n",
    "Sample Output\n",
    "[\"Cat\", \"Dog\", \"Elephant\", \"Fox\", \"Tiger\", \"Lion\", \"Ponda\"]\n",
    "Item randomly from a list : Fox\n",
    "\n",
    "a = [\"Cat\", \"Dog\", \"Elephant\", \"Fox\", \"Tiger\", \"Lion\", \"Ponda\"]\n",
    "random_item = random.choice(a)\n",
    "print(\"Item randomly from a list:\", random_item)"
   ]
  },
  {
   "cell_type": "code",
   "execution_count": 23,
   "id": "9bfe0452",
   "metadata": {},
   "outputs": [
    {
     "ename": "SyntaxError",
     "evalue": "invalid syntax (3923919662.py, line 2)",
     "output_type": "error",
     "traceback": [
      "\u001b[1;36m  Cell \u001b[1;32mIn[23], line 2\u001b[1;36m\u001b[0m\n\u001b[1;33m    Sample Output\u001b[0m\n\u001b[1;37m           ^\u001b[0m\n\u001b[1;31mSyntaxError\u001b[0m\u001b[1;31m:\u001b[0m invalid syntax\n"
     ]
    }
   ],
   "source": [
    "####21. Write a python program to check whether two lists are circularly identical \n",
    "Sample Output\n",
    "[8, 8, 12, 12, 8]\n",
    "[8, 8, 8, 12, 12]\n",
    "[1, 8, 8, 12, 12]\n",
    "Compare List1 and List2 : True\n",
    "Compare List1 and List3 : False\n",
    "\n",
    "list1 = [8, 8, 12, 12, 8]\n",
    "list2 = [8, 8, 8, 12, 12]\n",
    "list3 = [1, 8, 8, 12, 12]\n",
    "result1 = compare(list1, list2)\n",
    "print(f\"Compare List1 and List2: {result1}\")\n",
    "result2 = compare(list1, list3)\n",
    "print(f\"Compare List1 and List3: {result2}\")"
   ]
  },
  {
   "cell_type": "code",
   "execution_count": 28,
   "id": "6d35f5f1",
   "metadata": {},
   "outputs": [
    {
     "ename": "IndentationError",
     "evalue": "expected an indented block after function definition on line 5 (1142656126.py, line 6)",
     "output_type": "error",
     "traceback": [
      "\u001b[1;36m  Cell \u001b[1;32mIn[28], line 6\u001b[1;36m\u001b[0m\n\u001b[1;33m    numbers = [2, 4, 56, 78, 4, 34, 5, 8, 9]\u001b[0m\n\u001b[1;37m    ^\u001b[0m\n\u001b[1;31mIndentationError\u001b[0m\u001b[1;31m:\u001b[0m expected an indented block after function definition on line 5\n"
     ]
    }
   ],
   "source": [
    "###22. Write a Python program to find the second smallest number in a list Sample Output\n",
    "##[2,4,56,78,4,34,5,8,9]\n",
    "##Second Smallest Number : 4\n",
    "\n",
    "def find_second_smallest(numbers):\n",
    "numbers = [2, 4, 56, 78, 4, 34, 5, 8, 9]\n",
    "second_smallest = find_second_smallest(numbers)\n",
    "if second_smallest is not None:\n",
    "    print(f\"Second Smallest Number: {second_smallest}\")\n",
    "else:\n",
    "    print(\"The list does not have a second smallest number.\")"
   ]
  },
  {
   "cell_type": "code",
   "execution_count": 31,
   "id": "6f207a76",
   "metadata": {},
   "outputs": [
    {
     "name": "stdout",
     "output_type": "stream",
     "text": [
      "82\n"
     ]
    }
   ],
   "source": [
    "###23. Write a Python program to find the second largest number in a list Sample Output\n",
    "[82,4,56,78,4,34,5,100,9]\n",
    "Second Largest Number : 82\n",
    "    \n",
    "    \n",
    "num = [ 82,4,56,78,4,34,5,100,9]\n",
    "if (len(num)<2):\n",
    "  print(num)\n",
    "if ((len(num)==2)  and (num[0] == num[1]) ):\n",
    "  print(num)\n",
    "dup_items = set()\n",
    "uniq_items = []\n",
    "for x in num:\n",
    "  if x not in dup_items:\n",
    "    uniq_items.append(x)\n",
    "    dup_items.add(x)\n",
    "uniq_items.sort()    \n",
    "print(uniq_items[-2])"
   ]
  },
  {
   "cell_type": "code",
   "execution_count": 39,
   "id": "44f6da78",
   "metadata": {},
   "outputs": [
    {
     "name": "stdout",
     "output_type": "stream",
     "text": [
      "Original List :  [82, 4, 10, 56, 78, 4, 34, 5, 10, 9] [34, 4, 5, 9, 10, 78, 82, 56]\n"
     ]
    },
    {
     "ename": "TypeError",
     "evalue": "'list' object is not callable",
     "output_type": "error",
     "traceback": [
      "\u001b[1;31m---------------------------------------------------------------------------\u001b[0m",
      "\u001b[1;31mTypeError\u001b[0m                                 Traceback (most recent call last)",
      "Cell \u001b[1;32mIn[39], line 10\u001b[0m\n\u001b[0;32m      8\u001b[0m \u001b[38;5;28mprint\u001b[39m(\u001b[38;5;124m\"\u001b[39m\u001b[38;5;124mOriginal List : \u001b[39m\u001b[38;5;124m\"\u001b[39m,l,p)\n\u001b[0;32m      9\u001b[0m s \u001b[38;5;241m=\u001b[39m \u001b[38;5;28mset\u001b[39m(l)\n\u001b[1;32m---> 10\u001b[0m new_list \u001b[38;5;241m=\u001b[39m \u001b[38;5;28mlist\u001b[39m(s)\n\u001b[0;32m     11\u001b[0m \u001b[38;5;28mprint\u001b[39m(\u001b[38;5;124m\"\u001b[39m\u001b[38;5;124mUnique Numbers : \u001b[39m\u001b[38;5;124m\"\u001b[39m,new_list)\n",
      "\u001b[1;31mTypeError\u001b[0m: 'list' object is not callable"
     ]
    }
   ],
   "source": [
    "###24. Write a Python program to get unique values from a list Sample Output\n",
    "##[82, 4, 10, 56, 78, 4, 34, 5, 10, 9]\n",
    "##[34, 4, 5, 9, 10, 78, 82, 56]\n",
    "\n",
    "\n",
    "l = [82,4,10,56,78,4,34,5,10,9]\n",
    "p = [34, 4, 5, 9, 10, 78, 82, 56]\n",
    "print(\"Original List : \",l,p)\n",
    "s = set(l)\n",
    "new_list = list(s)\n",
    "print(\"Unique Numbers : \",new_list)"
   ]
  },
  {
   "cell_type": "code",
   "execution_count": 40,
   "id": "73905e75",
   "metadata": {},
   "outputs": [
    {
     "name": "stdout",
     "output_type": "stream",
     "text": [
      "Original List :  [10, 30, 50, 10, 20, 60, 20, 60, 40, 40, 50, 50, 30]\n",
      "Frequency of the Elements:  Counter({50: 3, 10: 2, 30: 2, 20: 2, 60: 2, 40: 2})\n"
     ]
    }
   ],
   "source": [
    "###25. Write a Python program to get the frequency of the elements in a list. Sample Output\n",
    "###[10, 30, 50, 10, 20, 60, 20, 60, 40, 40, 50, 50, 30]\n",
    "###Counter({50: 3, 10: 2, 30: 2, 20: 2, 60: 2, 40: 2})\n",
    "\n",
    "import collections\n",
    "l = [10,30,50,10,20,60,20,60,40,40,50,50,30]\n",
    "print(\"Original List : \",l)\n",
    "f = collections.Counter(l)\n",
    "print(\"Frequency of the Elements: \",f)"
   ]
  },
  {
   "cell_type": "code",
   "execution_count": 41,
   "id": "70d0a759",
   "metadata": {},
   "outputs": [
    {
     "name": "stdout",
     "output_type": "stream",
     "text": [
      "['T1', 'J1', 'T2', 'J2', 'T3', 'J3', 'T4', 'J4', 'T5', 'J5', 'T6', 'J6', 'T7', 'J7', 'T8', 'J8', 'T9', 'J9', 'T10', 'J10']\n"
     ]
    }
   ],
   "source": [
    "###26. Create a list by concatenating a given list which range goes from 1 to n Sample Output\n",
    "##['T', 'J']\n",
    "##N = 10\n",
    "##['T1', 'J1', 'T2', 'J2', 'T3', 'J3', 'T4', 'J4', 'T5', 'J5', 'T6', 'J6', 'T7', 'J7', 'T8', 'J8', 'T9', 'J9', 'T10', 'J10']\n",
    "\n",
    "ch = ['T', 'J']\n",
    "n = 10\n",
    "new_list = ['{}{}'.format(a, b) for b in range(1, n+1) for a in ch]\n",
    "print(new_list)"
   ]
  },
  {
   "cell_type": "code",
   "execution_count": 47,
   "id": "4e3de130",
   "metadata": {},
   "outputs": [
    {
     "name": "stdout",
     "output_type": "stream",
     "text": [
      "7ffee2c396c8\n",
      "14b076febf0\n"
     ]
    }
   ],
   "source": [
    "###27. Write a Python program to get variable unique identification number or string Sample Output\n",
    "##x = 30\n",
    "##s = \"Tutor Joes\"\n",
    "##Unique Identification Number : 7005f980\n",
    "##Unique Identification String : c24bb0\n",
    "\n",
    "\n",
    "x = 30\n",
    "print(format(id(x), 'x'))\n",
    "s = \"Tutor Joes\"\n",
    "print(format(id(s), 'x'))"
   ]
  },
  {
   "cell_type": "code",
   "execution_count": 48,
   "id": "24cc1f5c",
   "metadata": {},
   "outputs": [
    {
     "name": "stdout",
     "output_type": "stream",
     "text": [
      "{89, 34, 67}\n"
     ]
    }
   ],
   "source": [
    "###28. Write a Python program to find common items from two lists Sample Output\n",
    "[23,45,67,78,89,34]\n",
    "[34,89,55,56,39,67]\n",
    "Common items from two lists : {89, 34, 67}\n",
    "\n",
    "num1 = [23,45,67,78,89,34]\n",
    "num2 = [34,89,55,56,39,67]\n",
    "print(set(num1) & set(num2))"
   ]
  },
  {
   "cell_type": "code",
   "execution_count": 49,
   "id": "020557d3",
   "metadata": {},
   "outputs": [
    {
     "name": "stdout",
     "output_type": "stream",
     "text": [
      "F\n",
      "  Fox\n",
      "\n",
      "S\n",
      "  Shark\n",
      "  Snake\n",
      "\n",
      "b\n",
      "  bear\n",
      "\n",
      "c\n",
      "  cat\n",
      "  cow\n",
      "\n",
      "d\n",
      "  dog\n",
      "\n",
      "l\n",
      "  lion\n",
      "\n",
      "m\n",
      "  monkey\n",
      "  mouse\n",
      "\n",
      "t\n",
      "  tiger\n",
      "  turtle\n",
      "\n"
     ]
    }
   ],
   "source": [
    "####29. Write a Python program to split a list based on first character of word Sample Output\n",
    "[\"cat\", \"dog\", \"cow\", \"tiger\", \"lion\", \"Fox\", \"Shark\", \"Snake\", \"turtle\", \"mouse\", \"monkey\", \"bear\"]\n",
    "\n",
    "\n",
    "from itertools import groupby\n",
    "from operator import itemgetter\n",
    "a = [\"cat\",\"dog\",\"cow\",\"tiger\",\"lion\",\"Fox\",\"Shark\",\"Snake\",\"turtle\",\"mouse\",\"monkey\",\"bear\"]\n",
    " \n",
    "for ltr, wds in groupby(sorted(a), key=itemgetter(0)):\n",
    "    print(ltr)\n",
    "    for w in wds:\n",
    "    print(\" \",w)\n",
    "    print(\"\")"
   ]
  },
  {
   "cell_type": "code",
   "execution_count": 51,
   "id": "f46b5279",
   "metadata": {},
   "outputs": [
    {
     "name": "stdout",
     "output_type": "stream",
     "text": [
      "[1, 3, 7, 5, 9, 7, 9]\n"
     ]
    }
   ],
   "source": [
    "##30. Write a Python program to select the odd number of a list\n",
    "##Sample Output\n",
    "##[1,2,4,3,6,7,5,8,9,7,8,9,10]\n",
    "##[1, 3, 7, 5, 9, 7, 9]\n",
    "\n",
    "a=[1,2,4,3,6,7,5,8,9,7,8,9,10]\n",
    "odd_num=[]\n",
    "for i in a:\n",
    "    if(i%2==1):\n",
    "      #print(i)\n",
    "     odd_num.append(i)\n",
    "print(odd_num)"
   ]
  },
  {
   "cell_type": "code",
   "execution_count": 52,
   "id": "d90eef75",
   "metadata": {},
   "outputs": [
    {
     "name": "stdout",
     "output_type": "stream",
     "text": [
      "No of Unique Items in List : 6\n"
     ]
    }
   ],
   "source": [
    "##31. Write a Python Program to count unique values inside a list\n",
    "##Sample Output\n",
    "##[10, 20, 30, 50, 80, 70, 70, 80, 10]\n",
    "## No of Unique Items in List : 6\n",
    "\n",
    "a = [10, 20, 30, 50, 80, 70, 70, 80, 10]\n",
    "s = set(a)\n",
    "print(\"No of Unique Items in List :\", len(s))"
   ]
  },
  {
   "cell_type": "code",
   "execution_count": 59,
   "id": "7249f1fb",
   "metadata": {},
   "outputs": [
    {
     "name": "stdout",
     "output_type": "stream",
     "text": [
      "Original list : [2, 1, 2, 4, 6, 4, 3, 2, 1]\n"
     ]
    },
    {
     "ename": "TypeError",
     "evalue": "'list' object is not callable",
     "output_type": "error",
     "traceback": [
      "\u001b[1;31m---------------------------------------------------------------------------\u001b[0m",
      "\u001b[1;31mTypeError\u001b[0m                                 Traceback (most recent call last)",
      "Cell \u001b[1;32mIn[59], line 9\u001b[0m\n\u001b[0;32m      6\u001b[0m a \u001b[38;5;241m=\u001b[39m [\u001b[38;5;241m2\u001b[39m,\u001b[38;5;241m1\u001b[39m,\u001b[38;5;241m2\u001b[39m,\u001b[38;5;241m4\u001b[39m,\u001b[38;5;241m6\u001b[39m,\u001b[38;5;241m4\u001b[39m,\u001b[38;5;241m3\u001b[39m,\u001b[38;5;241m2\u001b[39m,\u001b[38;5;241m1\u001b[39m]\n\u001b[0;32m      7\u001b[0m \u001b[38;5;28mprint\u001b[39m (\u001b[38;5;124m\"\u001b[39m\u001b[38;5;124mOriginal list : \u001b[39m\u001b[38;5;124m\"\u001b[39m \u001b[38;5;241m+\u001b[39m \u001b[38;5;28mstr\u001b[39m(a))\n\u001b[1;32m----> 9\u001b[0m b\u001b[38;5;241m=\u001b[39m\u001b[38;5;28mlist\u001b[39m(\u001b[38;5;28mset\u001b[39m(a))\n\u001b[0;32m     10\u001b[0m c\u001b[38;5;241m=\u001b[39m\u001b[38;5;241m1\u001b[39m\n\u001b[0;32m     11\u001b[0m \u001b[38;5;28;01mfor\u001b[39;00m i \u001b[38;5;129;01min\u001b[39;00m b:\n",
      "\u001b[1;31mTypeError\u001b[0m: 'list' object is not callable"
     ]
    }
   ],
   "source": [
    "###32. Write a Python Program to List product excluding duplicates Sample Output\n",
    "###[2, 1, 2, 4, 6, 4, 3, 2, 1]\n",
    "##Duplication removal list product : 144\n",
    "\n",
    "\n",
    "a = [2,1,2,4,6,4,3,2,1]\n",
    "print (\"Original list : \" + str(a))\n",
    "\n",
    "b=list(set(a))\n",
    "c=1\n",
    "for i in b:\n",
    "    c*=i\n",
    "print (\"Duplication removal list product : \" + str(c))"
   ]
  },
  {
   "cell_type": "code",
   "execution_count": 60,
   "id": "52722d92",
   "metadata": {},
   "outputs": [
    {
     "name": "stdout",
     "output_type": "stream",
     "text": [
      "Original list : [4, 6, 4, 3, 3, 4, 3, 7, 8, 8]\n",
      "The Required Elements : [4, 3]\n"
     ]
    }
   ],
   "source": [
    "##33. Write a Python Program to Extract elements with Frequency greater than K Sample Output\n",
    "###[4, 6, 4, 3, 3, 4, 3, 7, 8, 8]\n",
    "\n",
    "\n",
    "a = [4, 6, 4, 3, 3, 4, 3, 7, 8, 8]\n",
    "print(\"Original list : \" + str(a))\n",
    "K = 2\n",
    " \n",
    "res = []\n",
    "for i in a:\t\n",
    "    freq = a.count(i)\n",
    "    if freq > K and i not in res:\n",
    "        res.append(i)\n",
    " \n",
    "print(\"The Required Elements : \" + str(res))"
   ]
  },
  {
   "cell_type": "code",
   "execution_count": 63,
   "id": "8ae21378",
   "metadata": {},
   "outputs": [
    {
     "ename": "IndentationError",
     "evalue": "expected an indented block after 'if' statement on line 12 (1258537425.py, line 13)",
     "output_type": "error",
     "traceback": [
      "\u001b[1;36m  Cell \u001b[1;32mIn[63], line 13\u001b[1;36m\u001b[0m\n\u001b[1;33m    res = False\u001b[0m\n\u001b[1;37m    ^\u001b[0m\n\u001b[1;31mIndentationError\u001b[0m\u001b[1;31m:\u001b[0m expected an indented block after 'if' statement on line 12\n"
     ]
    }
   ],
   "source": [
    "##34. Write a Python Program to Test if List contains elements in Range Sample Output\n",
    "##[4, 5, 6, 7, 3, 9]\n",
    "##Does list contain all elements in range : True\n",
    "\n",
    "\n",
    "a = [4, 5, 6, 7, 3, 9]\n",
    "print(\"Original list is : \" + str(a))\n",
    " \n",
    "i, j = 3, 10\n",
    "res = True\n",
    "for e in a:\n",
    "    if e < i or e >= j :\n",
    "    res = False\n",
    "      break\n",
    "print (\"Does list contain all elements in range : \" + str(res))"
   ]
  },
  {
   "cell_type": "code",
   "execution_count": 65,
   "id": "3a2a279d",
   "metadata": {},
   "outputs": [
    {
     "ename": "IndentationError",
     "evalue": "expected an indented block after 'if' statement on line 4 (3231800610.py, line 5)",
     "output_type": "error",
     "traceback": [
      "\u001b[1;36m  Cell \u001b[1;32mIn[65], line 5\u001b[1;36m\u001b[0m\n\u001b[1;33m    print(a[i])\u001b[0m\n\u001b[1;37m    ^\u001b[0m\n\u001b[1;31mIndentationError\u001b[0m\u001b[1;31m:\u001b[0m expected an indented block after 'if' statement on line 4\n"
     ]
    }
   ],
   "source": [
    "###35. Write a Python program to check if the list contains three consecutive common numbers in Python\n",
    "##Sample Output \n",
    "##[18, 18, 18, 6, 3, 4, 9, 9, 9] \n",
    "###Three Consecutive common numbers = 18, 9\n",
    "\n",
    "a = [18, 18, 18, 6, 3, 4, 9, 9, 9]\n",
    "l = len(a)\n",
    "for i in range(l - 2):\n",
    "    if a[i] == a[i + 1] and a[i + 1] == a[i + 2]:\n",
    "    print(a[i])"
   ]
  },
  {
   "cell_type": "code",
   "execution_count": 66,
   "id": "0e44da3e",
   "metadata": {},
   "outputs": [
    {
     "name": "stdout",
     "output_type": "stream",
     "text": [
      "20 30 30 30 400 "
     ]
    }
   ],
   "source": [
    "###36. Write a Python program to find the Strongest Neighbour Sample Output\n",
    "###[10,20,30,20,30,400]\n",
    "##20 30 30 30 400\n",
    "\n",
    "n = 6\n",
    "a1 = [10,20,30,20,30,400]\n",
    "a2 = []\t\n",
    "for i in range(1, n):\n",
    "    r = max(a1[i], a1[i-1])\n",
    "    a2.append(r)\n",
    "for i in a2 :\n",
    "    print(i,end=\" \")"
   ]
  },
  {
   "cell_type": "code",
   "execution_count": 67,
   "id": "e99c499a",
   "metadata": {},
   "outputs": [
    {
     "name": "stdout",
     "output_type": "stream",
     "text": [
      "1 2 3\n",
      "1 3 2\n",
      "2 1 3\n",
      "2 3 1\n",
      "3 1 2\n",
      "3 2 1\n"
     ]
    }
   ],
   "source": [
    "###37. Write a Python Program to print all Possible Combinations from the three Digits Sample Output\n",
    "##[1, 2, 3]\n",
    "##1 2 3\n",
    "##1 2 3\n",
    "##1 3 2\n",
    "##2 1 3\n",
    "##2 3 1\n",
    "##3 1 2\n",
    "##3 2 1\n",
    "\n",
    "a = [1, 2, 3]\n",
    "for i in range(3):\n",
    "    for j in range(3):\n",
    "        for k in range(3):\n",
    "            if (i!=j and j!=k and i!=k):\n",
    "                print(a[i], a[j], a[k])\t"
   ]
  },
  {
   "cell_type": "code",
   "execution_count": 69,
   "id": "bb07481a",
   "metadata": {},
   "outputs": [
    {
     "name": "stdout",
     "output_type": "stream",
     "text": [
      "Original List : ['Tutor Joes', ['Software', 'Computer'], ['Solution', 'Education']]\n"
     ]
    },
    {
     "ename": "TypeError",
     "evalue": "isinstance() arg 2 must be a type, a tuple of types, or a union",
     "output_type": "error",
     "traceback": [
      "\u001b[1;31m---------------------------------------------------------------------------\u001b[0m",
      "\u001b[1;31mTypeError\u001b[0m                                 Traceback (most recent call last)",
      "Cell \u001b[1;32mIn[69], line 13\u001b[0m\n\u001b[0;32m     11\u001b[0m t \u001b[38;5;241m=\u001b[39m []\n\u001b[0;32m     12\u001b[0m \u001b[38;5;28;01mfor\u001b[39;00m i \u001b[38;5;129;01min\u001b[39;00m val:\n\u001b[1;32m---> 13\u001b[0m     \u001b[38;5;28;01mif\u001b[39;00m \u001b[38;5;129;01mnot\u001b[39;00m \u001b[38;5;28misinstance\u001b[39m(i, \u001b[38;5;28mlist\u001b[39m):\n\u001b[0;32m     14\u001b[0m         t\u001b[38;5;241m.\u001b[39mappend(i)\n\u001b[0;32m     15\u001b[0m     \u001b[38;5;28;01melse\u001b[39;00m:\n",
      "\u001b[1;31mTypeError\u001b[0m: isinstance() arg 2 must be a type, a tuple of types, or a union"
     ]
    }
   ],
   "source": [
    "###38. Write a Python program to find all the Combinations in the list with the given condition Sample Output\n",
    "##['Tutor Joes', ['Software', 'Computer'], ['Solution', 'Education']]\n",
    "##[ ['Tutor Joes', 'Software', 'Solution'], ['Tutor Joes', 'Computer', 'Education'] ]\n",
    "\n",
    "val = [\"Tutor Joes\",[\"Software\",\"Computer\"],[\"Solution\", \"Education\"]]\n",
    "print(\"Original List : \" + str(val))\n",
    "a = 2\n",
    "l = []\n",
    "c = 0\n",
    "while c <= a - 1:\n",
    "    t = []\n",
    "    for i in val:\n",
    "        if not isinstance(i, list):\n",
    "            t.append(i)\n",
    "        else:\n",
    "            t.append(i[c])\n",
    "    c += 1\n",
    "    l.append(t)\n",
    "print(\"\\nIndex Combinations : \" + str(l))"
   ]
  },
  {
   "cell_type": "code",
   "execution_count": 70,
   "id": "f7e08894",
   "metadata": {},
   "outputs": [
    {
     "ename": "TypeError",
     "evalue": "'list' object is not callable",
     "output_type": "error",
     "traceback": [
      "\u001b[1;31m---------------------------------------------------------------------------\u001b[0m",
      "\u001b[1;31mTypeError\u001b[0m                                 Traceback (most recent call last)",
      "Cell \u001b[1;32mIn[70], line 15\u001b[0m\n\u001b[0;32m     13\u001b[0m \u001b[38;5;28;01mfor\u001b[39;00m comb \u001b[38;5;129;01min\u001b[39;00m permut:\n\u001b[0;32m     14\u001b[0m     zipped \u001b[38;5;241m=\u001b[39m \u001b[38;5;28mzip\u001b[39m(comb, l2)\n\u001b[1;32m---> 15\u001b[0m     unique\u001b[38;5;241m.\u001b[39mappend(\u001b[38;5;28mlist\u001b[39m(zipped))\n\u001b[0;32m     16\u001b[0m \u001b[38;5;28mprint\u001b[39m(unique)\n",
      "\u001b[1;31mTypeError\u001b[0m: 'list' object is not callable"
     ]
    }
   ],
   "source": [
    "###39. Write a Python program to get all unique combinations of two Lists\n",
    "##Sample Output\n",
    "###['A','B','C']\n",
    "###[1,2,3]\n",
    "###[ [('A', 1), ('B', 2), ('C', 3)], [('A', 1), ('C', 2), ('B', 3)], [('B', 1), ('A', 2), ('C', 3)], [('B', 1), ('C', 2), ('A', 3)], [('C', 1), ('A', 2), ('B', 3)], [('C', 1), ('B', 2), ('A', 3)] ] \n",
    "\n",
    "import itertools\n",
    "from itertools import permutations\n",
    "l1 = ['A','B','C']\n",
    "l2 = [1,2,3]\n",
    "unique = []\n",
    "permut = itertools.permutations(l1, len(l2))\n",
    "for comb in permut:\n",
    "    zipped = zip(comb, l2)\n",
    "    unique.append(list(zipped))\n",
    "print(unique)"
   ]
  },
  {
   "cell_type": "code",
   "execution_count": 71,
   "id": "bd171691",
   "metadata": {},
   "outputs": [
    {
     "name": "stdout",
     "output_type": "stream",
     "text": [
      "Original list : [1, 3, 4, 6, 5, 1]\n",
      "Remove operation : [3, 4, 6, 5]\n"
     ]
    }
   ],
   "source": [
    "###40. Write a Python program to remove all the occurrences of an element from a list Sample Output\n",
    "###[1, 3, 4, 6, 5, 1]\n",
    "##[3, 4, 6, 5]\n",
    "\n",
    "val = [1, 3, 4, 6, 5, 1]\n",
    "a = 1\n",
    "print (\"Original list :\" ,val)\n",
    "c = val.count(a)\n",
    "for i in range(c):\n",
    "    val.remove(a)\n",
    "print (\"Remove operation :\" , val)"
   ]
  },
  {
   "cell_type": "code",
   "execution_count": 72,
   "id": "2480810a",
   "metadata": {},
   "outputs": [
    {
     "name": "stdout",
     "output_type": "stream",
     "text": [
      "Original List : [('A', 'B', 'C', 'D'), ('B', 'C', 'C', 'I'), ('H', 'D', 'B', 'C'), ('C', 'C', 'G', 'F')]\n",
      "After Removal :  [('A', 'B', 'C', 'D'), ('H', 'D', 'B', 'C')]\n"
     ]
    }
   ],
   "source": [
    "###41. Write a Python Program to Remove Consecutive K element records\n",
    "###Sample Output\n",
    "###[ ('A', 'B', 'C', 'D'), ('B', 'C', 'C', 'I'), ('H', 'D', 'B', 'C'), ('C', 'C', 'G', 'F') ]\n",
    "### [ ('A', 'B', 'C', 'D'), ('H', 'D', 'B', 'C') ]\n",
    "\n",
    "\n",
    "val = [('A', 'B', 'C', 'D'), ('B', 'C', 'C', 'I'), ('H', 'D', 'B', 'C'), ('C', 'C', 'G', 'F')]\n",
    "print(\"Original List : \" + str(val))\n",
    "K = 'C'\n",
    "res = [i for i in val if not any(i[j] == K and i[j + 1] == K for j in range(len(i) - 1))]\n",
    " \n",
    "print(\"After Removal : \" , res)"
   ]
  },
  {
   "cell_type": "code",
   "execution_count": 73,
   "id": "26fea42f",
   "metadata": {},
   "outputs": [
    {
     "name": "stdout",
     "output_type": "stream",
     "text": [
      "List 1 :  ['Tutor Joes', 'Computer', 'Education']\n",
      "List 2 :  [2, 1, 0, 1, 0, 2, 2, 0, 1, 0, 1, 2]\n",
      "After Index Elements Replacements is :  ['Education', 'Computer', 'Tutor Joes', 'Computer', 'Tutor Joes', 'Education', 'Education', 'Tutor Joes', 'Computer', 'Tutor Joes', 'Computer', 'Education']\n"
     ]
    }
   ],
   "source": [
    "###42. Write a Python Program to Replace index elements with elements in Other List Sample Output\n",
    "###['Tutor Joes', 'Computer', 'Education']\n",
    "###[2, 1, 0, 1, 0, 2, 2, 0, 1, 0, 1, 2]\n",
    "###['Education', 'Computer', 'Tutor Joes', 'Computer', 'Tutor Joes', 'Education', 'Education', 'Tutor Joes', 'Computer', 'Tutor Joes', 'Computer', 'Education'] \n",
    "\n",
    "a = ['Tutor Joes', 'Computer', 'Education']\n",
    "b = [2 ,1 ,0 ,1 ,0 ,2 ,2 ,0 ,1 ,0 ,1 ,2]\n",
    "print(\"List 1 : \" , a)\n",
    "print(\"List 2 : \" , b)\n",
    "res = [a[i] for i in b]\n",
    " \n",
    "print (\"After Index Elements Replacements is : \" ,res)"
   ]
  },
  {
   "cell_type": "code",
   "execution_count": 75,
   "id": "c338170e",
   "metadata": {},
   "outputs": [
    {
     "name": "stdout",
     "output_type": "stream",
     "text": [
      "[(4, 5, 6, 5, 4), (4, 5, 3), (5, 5, 2), (3, 4, 9)]\n",
      "[(4, 5, 6, 5, 4), (5, 5, 2)]\n"
     ]
    }
   ],
   "source": [
    "###43. Write a Python Program to Retain records with N occurrences of K Sample Output\n",
    "###[(4, 5, 6, 5, 4), (4, 5, 3), (5, 5, 2), (3, 4, 9)]\n",
    "##K = 5\n",
    "##N = 2\n",
    "##[4, 5, 6, 5, 4), (5, 5, 2)]\n",
    "\n",
    "val = [(4, 5, 6, 5, 4), (4, 5, 3), (5, 5, 2), (3, 4, 9)]\n",
    "print(val)\n",
    "K = 5\n",
    "N = 2\n",
    "res = [e for e in val if e.count(K) == N]\n",
    "print(res)"
   ]
  },
  {
   "cell_type": "code",
   "execution_count": 76,
   "id": "164ff87d",
   "metadata": {},
   "outputs": [
    {
     "name": "stdout",
     "output_type": "stream",
     "text": [
      "Before Swap : ['Tutor', 'joes', 'Computer', 'Education']\n",
      "After Swap :  ['Tutor', \"Joe's\", 'Software', 'Solutions']\n"
     ]
    }
   ],
   "source": [
    "###44. Write a Python Program to Swap elements in String list Sample Output\n",
    "###['Tutor', 'joes', 'Computer', 'Education']\n",
    "###['Tutor', \"Joe's\", 'Software', 'Solutions']\n",
    "\n",
    "s = [\"Tutor\",\"joes\",\"Computer\",\"Education\"]\n",
    "print(\"Before Swap :\",s) \n",
    "res = [sub.replace(\"joes\",\"Joe's\").replace(\"Computer\", \"Software\").replace(\"Education\", \"Solutions\") for sub in s]\n",
    "print (\"After Swap : \",res)"
   ]
  },
  {
   "cell_type": "code",
   "execution_count": 77,
   "id": "99da74e5",
   "metadata": {},
   "outputs": [
    {
     "name": "stdout",
     "output_type": "stream",
     "text": [
      "Original list :  ['Tutor', 'joes', 'Computer', 'Education']\n",
      "Reversed list :  ['rotuT', 'seoj', 'retupmoC', 'noitacudE']\n",
      "Reversed list :  ['Education', 'Computer', 'joes', 'Tutor']\n"
     ]
    }
   ],
   "source": [
    "###45. Write a Python program to reverse All Strings in String List\n",
    "##SAmple output\n",
    "###Original list = ['Tutor', 'joes', 'Computer', 'Education']\n",
    "###Reversed list = ['rotuT', 'seoj', 'retupmoC', 'noitacudE']\n",
    "###Reversed list = ['Education', 'Computer', 'joes', 'Tutor']\n",
    "\n",
    "val = [\"Tutor\",\"joes\",\"Computer\",\"Education\"]\n",
    "print (\"Original list : \", val)\n",
    " \n",
    "#First Methods\n",
    " \n",
    "res = [i[::-1] for i in val]\n",
    "print (\"Reversed list : \" , res)\n",
    " \n",
    "#Second Methods\n",
    "print(\"Reversed list : \" ,val[::-1])"
   ]
  },
  {
   "cell_type": "code",
   "execution_count": 78,
   "id": "729aec0f",
   "metadata": {},
   "outputs": [
    {
     "name": "stdout",
     "output_type": "stream",
     "text": [
      "The original list is :  ['Tutor', 'joes', 'Computer', 'Education']\n",
      "Index of character at Kth position word : 3\n"
     ]
    }
   ],
   "source": [
    "###46. Write a Python program to find the character position of Kth word from a list of strings Sample Output\n",
    "##['Tutor', 'joes', 'Computer', 'Education']\n",
    "##K = 20\n",
    "##Index of character at Kth position word: 3\n",
    "\n",
    "val = [\"Tutor\",\"joes\",\"Computer\",\"Education\"]\n",
    "print(\"The original list is : \" ,val)\n",
    "K = 20\n",
    "res = [i[0] for sub in enumerate(val) for i in enumerate(sub[1])]\n",
    "res = res[K]\n",
    "print(\"Index of character at Kth position word : \" + str(res))"
   ]
  },
  {
   "cell_type": "code",
   "execution_count": 79,
   "id": "67f90f32",
   "metadata": {},
   "outputs": [
    {
     "name": "stdout",
     "output_type": "stream",
     "text": [
      "Original List :  ['TjC', 'TjCpp', 'TjPython', 'Java']\n",
      "Strings count with matching frequency :  3\n"
     ]
    }
   ],
   "source": [
    "###47. Write a Python Program to Prefix frequency in string List Sample Output\n",
    "##['TjC', 'TjCpp', 'TjPython', 'Java']\n",
    "##Prefix = 'Tj'\n",
    "##Strings count with matching frequency : 3\n",
    "\n",
    "val = [\"TjC\",\"TjCpp\",\"TjPython\",\"Java\"]\n",
    "print(\"Original List : \",val)\n",
    "sub = 'Tj'\n",
    "res = 0\n",
    "for e in val:\n",
    "    if e.startswith(sub):\n",
    "        res = res + 1\n",
    "print (\"Strings count with matching frequency : \",res)"
   ]
  },
  {
   "cell_type": "code",
   "execution_count": 80,
   "id": "8d6f96ab",
   "metadata": {},
   "outputs": [
    {
     "name": "stdout",
     "output_type": "stream",
     "text": [
      "The original list is :  ['TjC', 'TjCpp', 'TjPython', 'Java', 'tj']\n",
      "Prefix Split List : [['TjC'], ['TjCpp'], ['TjPython', 'Java', 'tj']]\n"
     ]
    }
   ],
   "source": [
    "###48. Write a Python Program to Split Strings on Prefix Occurrence Sample Output\n",
    "##['TjC', 'TjCpp', 'TjPython', 'Java', 'tj']\n",
    "##Prefix = 'Tj'\n",
    "##[ ['TjC'], ['TjCpp'], ['TjPython', 'Java', 'tj'] ]\n",
    "\n",
    "l = [\"TjC\",\"TjCpp\",\"TjPython\",\"Java\",\"tj\"]\n",
    "print(\"The original list is : \",l)\n",
    "pref = \"Tj\"\n",
    " \n",
    "res = []\n",
    "for val in l:\n",
    "    if val.startswith(pref):\n",
    "        res.append([val])\n",
    "    else:\n",
    "        res[-1].append(val)\n",
    "print(\"Prefix Split List : \" + str(res))"
   ]
  },
  {
   "cell_type": "code",
   "execution_count": 81,
   "id": "a91c889a",
   "metadata": {},
   "outputs": [
    {
     "name": "stdout",
     "output_type": "stream",
     "text": [
      "The original list : ['P', 'Y', 'T', 'H', 'O', 'N']\n",
      "List after replacement : ['@', '@', 'T', '@', '@', '@']\n"
     ]
    }
   ],
   "source": [
    "###49. Write a Python program to Replace all Characters of a List Except the given character\n",
    "###Sample Output\n",
    "###['P', 'Y', 'T', 'H', 'O', 'N']\n",
    "###['@', '@', 'T', '@', '@', '@']\n",
    "\n",
    "val = ['P', 'Y', 'T', 'H', 'O', 'N']\n",
    "print(\"The original list : \" + str(val))\n",
    " \n",
    "res = [i if i == 'T' else '@' for i in val]\n",
    "print(\"List after replacement : \" + str(res))"
   ]
  },
  {
   "cell_type": "code",
   "execution_count": 83,
   "id": "4c6dd9c7",
   "metadata": {},
   "outputs": [
    {
     "ename": "IndentationError",
     "evalue": "expected an indented block after 'if' statement on line 11 (2765621154.py, line 12)",
     "output_type": "error",
     "traceback": [
      "\u001b[1;36m  Cell \u001b[1;32mIn[83], line 12\u001b[1;36m\u001b[0m\n\u001b[1;33m    t.append([])\u001b[0m\n\u001b[1;37m    ^\u001b[0m\n\u001b[1;31mIndentationError\u001b[0m\u001b[1;31m:\u001b[0m expected an indented block after 'if' statement on line 11\n"
     ]
    }
   ],
   "source": [
    "###50. Write a Python Program to Add Space between Potential Words Sample Output\n",
    "###['TutorJoes', 'ComputerEducations']\n",
    "###[' Tutor Joes', ' Computer Educations']\n",
    "\n",
    "val = [\"TutorJoes\", \"ComputerEducations\"]\n",
    "print(\"Original list : \" ,val)\n",
    "res = []\n",
    "for i in val:\n",
    "    t = [[]]\n",
    "    for ch in i:\n",
    "        if ch.isupper():\n",
    "        t.append([])\n",
    "        t[-1].append(ch)\n",
    "    res.append(' '.join(''.join(i) for i in t))\n",
    "print(\"The space added list of strings : \" , res)"
   ]
  },
  {
   "cell_type": "code",
   "execution_count": null,
   "id": "a267dbab",
   "metadata": {},
   "outputs": [],
   "source": []
  }
 ],
 "metadata": {
  "kernelspec": {
   "display_name": "Python 3 (ipykernel)",
   "language": "python",
   "name": "python3"
  },
  "language_info": {
   "codemirror_mode": {
    "name": "ipython",
    "version": 3
   },
   "file_extension": ".py",
   "mimetype": "text/x-python",
   "name": "python",
   "nbconvert_exporter": "python",
   "pygments_lexer": "ipython3",
   "version": "3.11.4"
  }
 },
 "nbformat": 4,
 "nbformat_minor": 5
}
