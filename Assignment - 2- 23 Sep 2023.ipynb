{
 "cells": [
  {
   "cell_type": "markdown",
   "id": "218bb58d",
   "metadata": {},
   "source": [
    "# Task -I"
   ]
  },
  {
   "cell_type": "code",
   "execution_count": null,
   "id": "21380c27",
   "metadata": {},
   "outputs": [],
   "source": []
  },
  {
   "cell_type": "code",
   "execution_count": 19,
   "id": "fb88b58a",
   "metadata": {},
   "outputs": [
    {
     "name": "stdout",
     "output_type": "stream",
     "text": [
      "Enter the basic salary:20000\n",
      "Gross Salary =  32000.0\n"
     ]
    }
   ],
   "source": [
    "####1.Ramesh's basic salary is input through the keyboard. His dearness allowance is 40% of basic salary, and house rent \n",
    "###allowance is 20% of basic salary. Write a program to calculate his gross salary.\n",
    "\n",
    "basic_salary=int(input(\"Enter the basic salary:\"))\n",
    "da=0.4*basic_salary;\n",
    "hra=0.2*basic_salary;\n",
    "gross_salary=basic_salary+da+hra;\n",
    "print(\"Gross Salary = \",gross_salary)"
   ]
  },
  {
   "cell_type": "code",
   "execution_count": 2,
   "id": "6c8cea48",
   "metadata": {},
   "outputs": [
    {
     "name": "stdout",
     "output_type": "stream",
     "text": [
      "Enter The Kilometer : 12\n",
      "Kilometers :  12.0\n",
      "Meters  :  12000.0\n",
      "Centimeters :  1200000.0\n",
      "Inches :  472440.94488188974\n",
      "Feet :  39370.07874015748\n"
     ]
    }
   ],
   "source": [
    "###2.The distance between two cities (in km.) is input through the keyboard. Write a program to convert and print\n",
    "###this distance in meters, feet, inches and centimeters.\n",
    "\n",
    "km=float(input(\"Enter The Kilometer : \"));\n",
    "m=km*1000;\n",
    "cm=m*100;\n",
    "i=cm/2.54;\n",
    "ft=i/12;\n",
    "print(\"Kilometers : \",km);\n",
    "print(\"Meters  : \",m);\n",
    "print(\"Centimeters : \",cm);\n",
    "print(\"Inches : \",i);\n",
    "print(\"Feet : \",ft);"
   ]
  },
  {
   "cell_type": "code",
   "execution_count": 4,
   "id": "e2d0d5e8",
   "metadata": {},
   "outputs": [
    {
     "name": "stdout",
     "output_type": "stream",
     "text": [
      "Enter the marks 1:55\n",
      "Enter the mark 2:56\n",
      "Enter the mark 3:60\n",
      "Enter the mark 4:80\n",
      "Enter the mark 5:85\n",
      "Total Marks: 336\n",
      "Percentage Marks: 67.2\n"
     ]
    }
   ],
   "source": [
    "###3.If the marks obtained by a student in five different subjects are input through the keyboard, \n",
    "###find out the aggregate marks and percentage marks obtained by the student. Assume that the maximum marks that can be obtained by a student in each subject is 100.\n",
    "\n",
    "\n",
    "m1=int(input(\"Enter the marks 1:\"))\n",
    "m2=int(input(\"Enter the mark 2:\"))\n",
    "m3=int(input(\"Enter the mark 3:\"))\n",
    "m4=int(input(\"Enter the mark 4:\"))\n",
    "m5=int(input(\"Enter the mark 5:\"))\n",
    "total=m1+m2+m3+m4+m5\n",
    "per=total/5\n",
    "print(\"Total Marks:\",total)\n",
    "print(\"Percentage Marks:\",per)"
   ]
  },
  {
   "cell_type": "code",
   "execution_count": 8,
   "id": "5d7ce577",
   "metadata": {},
   "outputs": [
    {
     "name": "stdout",
     "output_type": "stream",
     "text": [
      "Enter the Temperature:26.5\n",
      "Temparture in Centigrade= -3.055555555555556\n"
     ]
    }
   ],
   "source": [
    "###4.Temperature of a city in Fahrenheit degrees is input through the keyboard. Write a program to convert\n",
    "###this temperature into Centigrade degrees.\n",
    "\n",
    "\n",
    "a=float(input(\"Enter the Temperature:\"))\n",
    "cent=5.0/9.0*(a-32)\n",
    "print(\"Temparture in Centigrade=\",cent)"
   ]
  },
  {
   "cell_type": "code",
   "execution_count": 9,
   "id": "c82cd927",
   "metadata": {},
   "outputs": [
    {
     "name": "stdout",
     "output_type": "stream",
     "text": [
      "Enter the Lenth of rectangle:15\n",
      "Enter the Breadth of rectangle:25\n",
      "Enter the Redius of Circle:25\n",
      "Area of Rectangle = 375\n",
      "Perimeter of Rectangle = 80\n",
      "Area of Circle = 1962.5\n",
      "Circum of Circle = 157.0\n"
     ]
    }
   ],
   "source": [
    "###5.The length & breadth of a rectangle and radius of a circle are input through the keyboard. \n",
    "###Write a program to calculate the area & perimeter of the rectangle, and the area & circumference of the circle.\n",
    "\n",
    "\n",
    "len=int(input(\"Enter the Lenth of rectangle:\"))\n",
    "bre=int(input(\"Enter the Breadth of rectangle:\"))\n",
    "r=int(input(\"Enter the Redius of Circle:\"))\n",
    "area1=len*bre\n",
    "perimeter=2*(len+bre)\n",
    "area2=3.14*r*r\n",
    "circum=2*3.14*r\n",
    "print(\"Area of Rectangle =\",area1)\n",
    "print(\"Perimeter of Rectangle =\",perimeter)\n",
    "print(\"Area of Circle =\",area2)\n",
    "print(\"Circum of Circle =\",circum)"
   ]
  },
  {
   "cell_type": "code",
   "execution_count": 10,
   "id": "dc9e5315",
   "metadata": {},
   "outputs": [
    {
     "name": "stdout",
     "output_type": "stream",
     "text": [
      "Enter the C Values:10\n",
      "Enter the D Values:30\n",
      "Before C Values :  10\n",
      "Before D Values :  30\n",
      "After C Values: 30\n",
      "After D Values: 10\n"
     ]
    }
   ],
   "source": [
    "###6.Two numbers are input through the keyboard into two locations C and D. Write a program to interchange the contents of C and D.\n",
    "\n",
    "\n",
    "c=int(input(\"Enter the C Values:\"))\n",
    "d=int(input(\"Enter the D Values:\"))\n",
    "print(\"Before C Values : \",c)\n",
    "print(\"Before D Values : \",d)\n",
    "a=c\n",
    "c=d\n",
    "d=a\n",
    "print(\"After C Values:\",c)\n",
    "print(\"After D Values:\",d)"
   ]
  },
  {
   "cell_type": "code",
   "execution_count": 11,
   "id": "bef3d831",
   "metadata": {},
   "outputs": [
    {
     "name": "stdout",
     "output_type": "stream",
     "text": [
      "Enter the five digits Number :25879\n",
      "sum of the Digits =  31\n"
     ]
    }
   ],
   "source": [
    "###7.If a five-digit number is input through the keyboard, write a program to calculate the sum of its digits. \n",
    "###( Hint: Use the modulus operator '%')\n",
    "\n",
    "\n",
    "num=int(input(\"Enter the five digits Number :\"))\n",
    "sum=0\n",
    "a=num%10\n",
    "n=num//10\n",
    "sum=sum+a\n",
    " \n",
    "a=n%10\n",
    "n=n//10\n",
    "sum=sum+a\n",
    " \n",
    "a=n%10\n",
    "n=n//10\n",
    "sum=sum+a\n",
    " \n",
    "a=n%10\n",
    "n=n//10\n",
    "sum=sum+a\n",
    " \n",
    "a=n%10\n",
    "sum=sum+a;\n",
    "print(\"sum of the Digits = \",sum)"
   ]
  },
  {
   "cell_type": "code",
   "execution_count": 13,
   "id": "cab8dc49",
   "metadata": {},
   "outputs": [
    {
     "name": "stdout",
     "output_type": "stream",
     "text": [
      "Enter the five digits Number:25678\n",
      "Reverse Five digits = 87652\n"
     ]
    }
   ],
   "source": [
    "###8.If a five-digit number is input through the keyboard, write a program to reverse the number.\n",
    "\n",
    "\n",
    "n=int(input(\"Enter the five digits Number:\"))\n",
    "revnum=0\n",
    "a=n%10\n",
    "n=n//10\n",
    "revnum=revnum+a*10000\n",
    " \n",
    "a=n%10\n",
    "n=n//10\n",
    "revnum=revnum+a*1000\n",
    " \n",
    "a=n%10\n",
    "n=n//10\n",
    "revnum=revnum+a*100\n",
    " \n",
    "a=n%10\n",
    "n=n//10\n",
    "revnum=revnum+a*10\n",
    " \n",
    "a=n%10\n",
    "revnum=revnum+a\n",
    " \n",
    "print(\"Reverse Five digits =\",revnum)\n"
   ]
  },
  {
   "cell_type": "code",
   "execution_count": 14,
   "id": "6c4c0b0a",
   "metadata": {},
   "outputs": [
    {
     "name": "stdout",
     "output_type": "stream",
     "text": [
      "Enter the five digits Number:254789\n",
      "Reverse Five digits = 98745\n"
     ]
    }
   ],
   "source": [
    "###9.If a four-digit number is input through the keyboard, \n",
    "###write a program to obtain the sum of the first and last digit of this number.\n",
    "\n",
    "n=int(input(\"Enter the five digits Number:\"))\n",
    "revnum=0\n",
    "a=n%10\n",
    "n=n//10\n",
    "revnum=revnum+a*10000\n",
    " \n",
    "a=n%10\n",
    "n=n//10\n",
    "revnum=revnum+a*1000\n",
    " \n",
    "a=n%10\n",
    "n=n//10\n",
    "revnum=revnum+a*100\n",
    " \n",
    "a=n%10\n",
    "n=n//10\n",
    "revnum=revnum+a*10\n",
    " \n",
    "a=n%10\n",
    "revnum=revnum+a\n",
    " \n",
    "print(\"Reverse Five digits =\",revnum)\n"
   ]
  },
  {
   "cell_type": "code",
   "execution_count": 16,
   "id": "9f1014d5",
   "metadata": {},
   "outputs": [
    {
     "ename": "SyntaxError",
     "evalue": "expected ':' (2008827076.py, line 4)",
     "output_type": "error",
     "traceback": [
      "\u001b[1;36m  Cell \u001b[1;32mIn[16], line 4\u001b[1;36m\u001b[0m\n\u001b[1;33m    class Populationa\u001b[0m\n\u001b[1;37m                     ^\u001b[0m\n\u001b[1;31mSyntaxError\u001b[0m\u001b[1;31m:\u001b[0m expected ':'\n"
     ]
    }
   ],
   "source": [
    "###10.In a town, the percentage of men is 52. The percentage of total literacy is 48. \n",
    "###If total percentage of literate men is 35 of the total population, write a program to find the total number of illiterate men and women if the population of the town is 80,000.\n",
    "\n",
    "class Populationa\n",
    "{\n",
    "public static void main(String args[])\n",
    "{\n",
    "int pop=80000;\n",
    "int popmen=(52*pop)/100;\n",
    "int popwomen=pop-popmen;\n",
    "int poplit=(48*pop)/100;\n",
    "int litmen=(35*popmen)/100;\n",
    "int litwomen= poplit-litmen;\n",
    "int unlitmen=popmen-litmen;\n",
    "int unlitwomen=popwomen-litwomen;\n",
    "System.out.println(\"Total Population          : \"+pop);\n",
    "System.out.println(\"Total Mens                : \"+popmen);\n",
    "System.out.println(\"Total Womens              : \"+popwomen);\n",
    "System.out.println(\"Total Literacy            : \"+poplit);\n",
    "System.out.println(\"Total Literacy Mens       : \"+litmen);\n",
    "System.out.println(\"Total Literacy Womens     : \"+litwomen);\n",
    "System.out.println(\"Total Not Literacy Mens   : \"+unlitmen);\n",
    "System.out.println(\"Total Not Literacy Womens : \"+unlitwomen);\n",
    "}\n",
    "}"
   ]
  },
  {
   "cell_type": "code",
   "execution_count": 17,
   "id": "8cc628e5",
   "metadata": {},
   "outputs": [
    {
     "name": "stdout",
     "output_type": "stream",
     "text": [
      "Enter the Amount to be Withdrawn :35894\n",
      "No of Hundred Notes : 358\n",
      "No of Fifty Notes : 1\n",
      "No of Ten Notes : 4\n"
     ]
    }
   ],
   "source": [
    "######11.A cashier has currency notes of denominations 10, 50 and 100. If the amount to be withdrawn is input through \n",
    "###the keyboard in hundreds, find the total number of currency notes of each denomination the cashier will have to \n",
    "##give to the withdrawer.\n",
    "\n",
    "\n",
    "amt = int(input(\"Enter the Amount to be Withdrawn :\"))\n",
    "hundred = amt//100\n",
    "amt = amt%100\n",
    "fifty = amt//50\n",
    "amt = amt%50\n",
    "ten = amt//10\n",
    "print(\"No of Hundred Notes :\",hundred)\n",
    "print(\"No of Fifty Notes :\",fifty)\n",
    "print(\"No of Ten Notes :\",ten)"
   ]
  },
  {
   "cell_type": "code",
   "execution_count": 18,
   "id": "0ab0932b",
   "metadata": {},
   "outputs": [
    {
     "name": "stdout",
     "output_type": "stream",
     "text": [
      "Enter the Selling Price :4250\n",
      "Enter the Profit :452\n",
      "Cost Price of Per Item : 253.0\n"
     ]
    }
   ],
   "source": [
    "### 12.If the total selling price of 15 items and the total profit earned on them is input \n",
    "##through the keyboard, write a program to find the cost price of one item.\n",
    "\n",
    "\n",
    "sp = float(input(\"Enter the Selling Price :\"))\n",
    "profit = float(input(\"Enter the Profit :\"))\n",
    "cp = sp - profit\n",
    "cp = cp // 15\n",
    "print(\"Cost Price of Per Item :\",cp)"
   ]
  },
  {
   "cell_type": "code",
   "execution_count": null,
   "id": "58b4f0bb",
   "metadata": {},
   "outputs": [],
   "source": [
    "##If a five-digit number is input through the keyboard, write a program to print a new number by adding one to each of its digits. For example,\n",
    "###if the number that is input is 12391 then the output should be displayed as 23402.\n",
    "\n",
    "\n"
   ]
  },
  {
   "cell_type": "markdown",
   "id": "26671970",
   "metadata": {},
   "source": [
    "# TASK II "
   ]
  },
  {
   "cell_type": "code",
   "execution_count": 1,
   "id": "93be03ef",
   "metadata": {},
   "outputs": [
    {
     "name": "stdout",
     "output_type": "stream",
     "text": [
      "Enter the Quantity Purchased :28\n",
      "Enter the Amount Per Item :20\n",
      "Total Expenses is : 504.0\n"
     ]
    }
   ],
   "source": [
    "###1. While purchasing certain items, a discount of 10% is offered if the quantity purchased is\n",
    "###more than 10. If quantity and price per item are input through the keyboard, write a\n",
    "##program to calculate the total expenses.\n",
    "\n",
    "qty = int(input(\"Enter the Quantity Purchased :\"))\n",
    "amt = float(input(\"Enter the Amount Per Item :\"))\n",
    "if(qty>10):\n",
    "    total = qty * amt; \n",
    "    total = total- (total * 0.1)\n",
    "else:\n",
    "    total = qty * amt\n",
    "print(\"Total Expenses is :\",total)"
   ]
  },
  {
   "cell_type": "code",
   "execution_count": 2,
   "id": "37ca2989",
   "metadata": {},
   "outputs": [
    {
     "name": "stdout",
     "output_type": "stream",
     "text": [
      "Enter the Current Year :250\n",
      "Enter the Year of Joining :26\n",
      "Bonus of Rs : 2500 /-\n"
     ]
    }
   ],
   "source": [
    "####2. The current year and the year in which the employee joined the organization are entered\n",
    "##through the keyboard. If the number of years for which the employee has served the\n",
    "##organization is greater than 3 then a bonus of Rs. 2500/- is given to the employee. If the\n",
    "##years of service are not greater than 3, then the program should do nothing.\n",
    "\n",
    "current_year=int(input(\"Enter the Current Year :\"))\n",
    "join_year=int(input(\"Enter the Year of Joining :\"))\n",
    "diff=current_year-join_year\n",
    "if(diff>3):\n",
    "    print(\"Bonus of Rs : 2500 /-\");\n",
    "else:\n",
    "    print(\"No Bonus..\")"
   ]
  },
  {
   "cell_type": "code",
   "execution_count": 5,
   "id": "2d918dea",
   "metadata": {},
   "outputs": [
    {
     "name": "stdout",
     "output_type": "stream",
     "text": [
      "Enter the Basic Salary :565\n",
      "Gross Salary Rs : 1130.0\n"
     ]
    }
   ],
   "source": [
    "##3. If his basic salary is less than Rs. 1500, then HRA = 10% of basic salary and DA = 90% of\n",
    "##basic salary. If his salary is either equal to or above Rs. 1500, then HRA = Rs. 500 and DA =\n",
    "##98% of basic salary. If the employee's salary is input through the keyboard write a program\n",
    "##to find his gross salary\n",
    "\n",
    "bs = float(input(\"Enter the Basic Salary :\"))\n",
    "if(bs<1500):\n",
    "    hra=bs*0.1\n",
    "    da=bs*0.9\n",
    "else:\n",
    "    hra=500\n",
    "    da=bs*0.98\n",
    "gs=bs + hra + da\n",
    "print(\"Gross Salary Rs :\", gs)\n"
   ]
  },
  {
   "cell_type": "code",
   "execution_count": 6,
   "id": "c6a89e79",
   "metadata": {},
   "outputs": [
    {
     "name": "stdout",
     "output_type": "stream",
     "text": [
      "Enter the Mark Subject 1 :5000\n",
      "Enter the Mark Subject 2 :250\n",
      "Enter the Mark Subject 3 :175\n",
      "Enter the Mark Subject 4 :178\n",
      "Enter the Mark Subject 5 :150\n",
      "Total : 5753\n",
      "Percentage : 1150.6\n",
      "First Division..\n"
     ]
    }
   ],
   "source": [
    "##4. The marks obtained by a student in 5 different subjects are input through the keyboard.\n",
    "##The student gets a division as per the following rules: Write a program to calculate the\n",
    "##division obtained by the student.\n",
    "##a. Percentage above or equal to 60 - First division\n",
    "##b. Percentage between 50 and 59 - Second division\n",
    "##c. Percentage between 40 and 49 - Third division\n",
    "##d. Percentage less than 40 – Fail\n",
    "\n",
    "\n",
    "m1=int(input(\"Enter the Mark Subject 1 :\"))\n",
    "m2=int(input(\"Enter the Mark Subject 2 :\"))\n",
    "m3=int(input(\"Enter the Mark Subject 3 :\"))\n",
    "m4=int(input(\"Enter the Mark Subject 4 :\"))\n",
    "m5=int(input(\"Enter the Mark Subject 5 :\"))\n",
    "total=m1+m2+m3+m4+m5\n",
    "per=total/5\n",
    "print(\"Total :\",total)\n",
    "print(\"Percentage :\",per)\n",
    "if(per>=60):\n",
    "    print(\"First Division..\")\n",
    "elif(per>=50 and per<=59):\n",
    "     print(\"Second Division..\")\n",
    "elif(per>=40 and per<=49):\n",
    "     print(\"Third Division..\")\n",
    "else:\n",
    "    print(\"Fail..\")"
   ]
  },
  {
   "cell_type": "code",
   "execution_count": 8,
   "id": "d5485e40",
   "metadata": {},
   "outputs": [
    {
     "name": "stdout",
     "output_type": "stream",
     "text": [
      "Enter the Age :35\n",
      "Enter the Gender M/F :M\n",
      "Enter the Marital Status U/M :M\n",
      "Driver should be Insured\n"
     ]
    }
   ],
   "source": [
    "###5. A company insures its drivers in the following cases:\n",
    "##a. If the driver is married.\n",
    "##b. If the driver is unmarried, male & above 30 years of age.\n",
    "###c. If the driver is unmarried, female & above 25 years of age.\n",
    "\n",
    "age = int(input(\"Enter the Age :\"))\n",
    "sex = input(\"Enter the Gender M/F :\")\n",
    "status = input(\"Enter the Marital Status U/M :\")\n",
    "if( status == 'M' or status == 'm'):\n",
    "    print( \"Driver should be Insured\" )\n",
    "elif( status == 'U' and sex == 'M' and age > 30 or status == 'u' and sex == 'm' and age > 30 ):\n",
    "    print( \"Driver should be Insured\" )\n",
    "elif( status == 'U' and sex == 'F' and age > 25 or status == 'u' and sex == 'f' and age > 25 ):\n",
    "    print( \"Driver should be Insured\" )\n",
    "else:\n",
    "    print( \"Driver should not be Insured\" )"
   ]
  },
  {
   "cell_type": "code",
   "execution_count": 12,
   "id": "9cbb3307",
   "metadata": {},
   "outputs": [
    {
     "name": "stdout",
     "output_type": "stream",
     "text": [
      "Enter the Gender f/m :m\n",
      "Enter the Years of Service :10\n",
      "Enter the Qualification (Graduate(0) , Post-Graduate(1)) :0\n",
      "Salary :  10000\n"
     ]
    }
   ],
   "source": [
    "###6. Write a program to calculate the salary as per the following table:\n",
    "\n",
    "\n",
    "gen = input(\"Enter the Gender f/m :\")\n",
    "yos = int(input(\"Enter the Years of Service :\"))\n",
    "qual = int(input(\"Enter the Qualification (Graduate(0) , Post-Graduate(1)) :\"))\n",
    "if(gen=='m' and yos>=10 and qual==1):\n",
    "    salary = 15000\n",
    "    print(\"Salary : \" , salary)\n",
    "elif( (gen=='m' and yos>=10 and qual==0) or ( gen=='m' and yos<10 and qual==1 ) or ( gen=='f' and yos<10 and qual==1)):\n",
    "    salary = 10000\n",
    "    print(\"Salary : \" , salary)\n",
    "elif( gen=='m' and yos<10 and qual==0):\n",
    "    salary = 7000\n",
    "    print(\"Salary : \" , salary)\n",
    "elif( gen=='f' and yos>=10 and qual==1):\n",
    "    salary = 12000\n",
    "    print(\"Salary : \" , salary)\n",
    "elif( gen=='f' and yos>=10 and qual==0):\n",
    "    salary = 9000\n",
    "    print(\"Salary : \" , salary)\n",
    "elif( gen=='f' and yos<10 and qual==0):\n",
    "    salary = 6000\n",
    "    print(\"Salary : \" , salary)"
   ]
  },
  {
   "cell_type": "code",
   "execution_count": 16,
   "id": "c17fd45c",
   "metadata": {},
   "outputs": [
    {
     "name": "stdout",
     "output_type": "stream",
     "text": [
      "Enter the cost Price of an Item :250\n",
      "Enter the Selling Price of an Item :200\n",
      "Loss : 50.0\n"
     ]
    }
   ],
   "source": [
    "###7. If cost price and selling price of an item is input through the keyboard, \n",
    "###write a program to determine whether the seller has made profit or incurred loss.\n",
    "###Also determine how much profit he made or loss he incurred.\n",
    "\n",
    "cost_price=float(input(\"Enter the cost Price of an Item :\"))\n",
    "selling_price=float(input(\"Enter the Selling Price of an Item :\"))\n",
    "if (selling_price > cost_price):\n",
    "    profit = selling_price - cost_price\n",
    "    print(\"Profit :\",profit)\n",
    "elif( cost_price > selling_price):\n",
    "    loss = cost_price - selling_price\n",
    "    print(\"Loss :\",loss)\n",
    "\n",
    "else:\n",
    "    print(\"No Profit No Loss\")"
   ]
  },
  {
   "cell_type": "code",
   "execution_count": 17,
   "id": "5ced1b5a",
   "metadata": {},
   "outputs": [
    {
     "name": "stdout",
     "output_type": "stream",
     "text": [
      "Enter the Number :36\n",
      "36 is Even Number\n"
     ]
    }
   ],
   "source": [
    "###8. Any integer is input through the keyboard. Write a program to find out whether it is an odd number or even number.\n",
    "###(Hint: Use the % (modulus) operator)\n",
    "\n",
    "num = int(input(\"Enter the Number :\"))\n",
    "if(num%2==0):\n",
    "    print(num,\"is Even Number\")\n",
    "else:\n",
    "    print(num,\"is Odd Number\")"
   ]
  },
  {
   "cell_type": "code",
   "execution_count": 18,
   "id": "74af804f",
   "metadata": {},
   "outputs": [
    {
     "name": "stdout",
     "output_type": "stream",
     "text": [
      "Enter the five digits Number:25489\n",
      "Reverse Five digits = 98452\n"
     ]
    }
   ],
   "source": [
    "###9. A five-digit number is entered through the keyboard. \n",
    "###Write a program to obtain the reversed number and to determine whether the original and reversed numbers are equal or not.\n",
    "\n",
    "\n",
    "n=int(input(\"Enter the five digits Number:\"))\n",
    "revnum=0\n",
    "a=n%10\n",
    "n=n//10\n",
    "revnum=revnum+a*10000\n",
    " \n",
    "a=n%10\n",
    "n=n//10\n",
    "revnum=revnum+a*1000\n",
    " \n",
    "a=n%10\n",
    "n=n//10\n",
    "revnum=revnum+a*100\n",
    " \n",
    "a=n%10\n",
    "n=n//10\n",
    "revnum=revnum+a*10\n",
    " \n",
    "a=n%10\n",
    "revnum=revnum+a\n",
    " \n",
    "print(\"Reverse Five digits =\",revnum)"
   ]
  },
  {
   "cell_type": "code",
   "execution_count": 19,
   "id": "d685b9ab",
   "metadata": {},
   "outputs": [
    {
     "name": "stdout",
     "output_type": "stream",
     "text": [
      "Enter the Age of Ram :45\n",
      "Enter the Age of Shyam :55\n",
      "Enter the Age of Ajay :60\n",
      "The Youngest Age is Ram\n"
     ]
    }
   ],
   "source": [
    "###10. If the ages of Ram, Shyam and Ajay are input through the keyboard, write a program to determine the youngest of the three.\n",
    "\n",
    "\n",
    "age1 = int(input(\"Enter the Age of Ram :\"))\n",
    "age2 = int(input(\"Enter the Age of Shyam :\"))\n",
    "age3 = int(input(\"Enter the Age of Ajay :\"))\n",
    "if(age1<age2 and age1<age3):\n",
    "    print(\"The Youngest Age is Ram\")\n",
    "elif(age2<age1 and age2<age3):\n",
    "    print(\"The Youngest Age is Shyam\")\n",
    "else:\n",
    "    print(\"The Youngest Age is Ajay\")\n",
    "    "
   ]
  },
  {
   "cell_type": "code",
   "execution_count": 20,
   "id": "fed3a2f4",
   "metadata": {},
   "outputs": [
    {
     "name": "stdout",
     "output_type": "stream",
     "text": [
      "Enter the Triangle Side-1 :40\n",
      "Enter the Triangle Side-2 :50\n",
      "Enter the Triangle Side-3 :60\n",
      "Triangle Not Valid..\n"
     ]
    }
   ],
   "source": [
    "###11. Write a program to check whether a triangle is valid or not, when the three angles of the triangle are entered through the keyboard. \n",
    "###A triangle is valid if the sum of all the three angles is equal to 180 degrees.\n",
    "\n",
    "\n",
    "s1 = int(input(\"Enter the Triangle Side-1 :\"))\n",
    "s2 = int(input(\"Enter the Triangle Side-2 :\"))\n",
    "s3 = int(input(\"Enter the Triangle Side-3 :\"))\n",
    "sum = s1+s2+s3\n",
    "if(sum==180):\n",
    "    print(\"Triangle Valid..\")\n",
    "else:\n",
    "    print(\"Triangle Not Valid..\")"
   ]
  },
  {
   "cell_type": "code",
   "execution_count": 23,
   "id": "dc717ebd",
   "metadata": {},
   "outputs": [
    {
     "name": "stdout",
     "output_type": "stream",
     "text": [
      "Enter the Number :-34\n",
      "Absolute Number : 34\n"
     ]
    }
   ],
   "source": [
    "##12. Find the absolute value of a number entered through the keyboard.\n",
    "\n",
    "num = int(input(\"Enter the Number :\"))\n",
    "if(num<0):\n",
    "    num = (-1)*num\n",
    "print(\"Absolute Number :\",num)"
   ]
  },
  {
   "cell_type": "code",
   "execution_count": 24,
   "id": "d4c28644",
   "metadata": {},
   "outputs": [
    {
     "name": "stdout",
     "output_type": "stream",
     "text": [
      "Enter the Length : 12\n",
      "Enter the Breadth : 13.6\n",
      "Area of Rectangle : 163.2\n",
      "Perimeter of Rectangle : 51.2\n",
      "Area of rectangle is greater than  Perimeter\n"
     ]
    }
   ],
   "source": [
    "###13. Given the length and breadth of a rectangle, write a program to find whether the area of the rectangle is greater than its perimeter. For example, \n",
    "###the area of the rectangle with length = 5 and breadth = 4 is greater than its perimeter\n",
    "\n",
    "len = float(input(\"Enter the Length : \"))\n",
    "bre = float(input(\"Enter the Breadth : \"))\n",
    "area = len * bre;\n",
    "perimeter = 2 * (len+bre)\n",
    "print(\"Area of Rectangle :\", area)\n",
    "print(\"Perimeter of Rectangle :\", perimeter)\n",
    "if (area>perimeter):\n",
    "    print(\"Area of rectangle is greater than  Perimeter\")\n",
    "else:\n",
    "    print(\"Perimeter of rectangle is greater than Area\")"
   ]
  },
  {
   "cell_type": "code",
   "execution_count": 25,
   "id": "5959965c",
   "metadata": {},
   "outputs": [
    {
     "name": "stdout",
     "output_type": "stream",
     "text": [
      "Enter the Year :2500\n",
      "Given Year is not a leap Year\n"
     ]
    }
   ],
   "source": [
    "####14. Any year is entered through the keyboard, write a program to determine whether the year is leap or not.\n",
    "###Use the logical operators && and ||.\n",
    "\n",
    "year = int(input(\"Enter the Year :\")) \n",
    "if (year%4 == 0 and year%100 != 0) or (year%400 == 0):\n",
    "    print(\"Given Year is a leap Year\")\n",
    "else:  \n",
    "    print (\"Given Year is not a leap Year\") "
   ]
  },
  {
   "cell_type": "code",
   "execution_count": null,
   "id": "0b40434c",
   "metadata": {},
   "outputs": [],
   "source": [
    "###15. A certain grade of steel is graded according to the following conditions:\n",
    "##i. Hardness must be greater than 50\n",
    "##ii. Carbon content must be less than 0.7\n",
    "##iii. Tensile strength must be greater than 5600\n",
    "\n"
   ]
  },
  {
   "cell_type": "code",
   "execution_count": 29,
   "id": "4512eff8",
   "metadata": {},
   "outputs": [
    {
     "ename": "IndentationError",
     "evalue": "expected an indented block after 'if' statement on line 19 (2724507177.py, line 20)",
     "output_type": "error",
     "traceback": [
      "\u001b[1;36m  Cell \u001b[1;32mIn[29], line 20\u001b[1;36m\u001b[0m\n\u001b[1;33m    print(\"Your Membership would be Cancelled..\")\u001b[0m\n\u001b[1;37m    ^\u001b[0m\n\u001b[1;31mIndentationError\u001b[0m\u001b[1;31m:\u001b[0m expected an indented block after 'if' statement on line 19\n"
     ]
    }
   ],
   "source": [
    "###16. A library charges a fine for every book returned late. For first 5 days the fine is 50 paise, \n",
    "###for 6-10 days fine is one rupee and above 10 days fine is 5 rupees. \n",
    "###If you return the book after 30 days your membership will be cancelled. Write a program to accept the number of days the member is late to return the book and display the fine or the appropriate message.\n",
    "\n",
    "\n",
    "days = int(input(\"Enter the Number of Days :\"))\n",
    "if (days>0 and days<= 5):\n",
    "    amt = 0.50 * days\n",
    "    print(\"Fine Amount Pay to Rs :\", amt)\n",
    "    \n",
    "elif(days >= 6 and days <= 10):\n",
    "    amt = 1 * days\n",
    "    print(\"Fine Amount Pay to Rs :\", amt)\n",
    "    \n",
    "elif (days > 10):\n",
    "    amt = 5 * days\n",
    "    print(\"Fine Amount Pay to Rs :\", amt)\n",
    "    \n",
    "    if (days > 30):\n",
    "    print(\"Your Membership would be Cancelled..\")\n",
    "    \n",
    "else:\n",
    "    print(\"Invalid\")"
   ]
  },
  {
   "cell_type": "code",
   "execution_count": 30,
   "id": "2b667bf0",
   "metadata": {},
   "outputs": [
    {
     "name": "stdout",
     "output_type": "stream",
     "text": [
      "Enter the Time Taken by Worker : 8\n",
      "Worker is Leave the Company..\n"
     ]
    }
   ],
   "source": [
    "##17. In a company, worker efficiency is determined on the basis of the time required for a worker to complete a particular job.\n",
    "##If the time taken by the worker is between 2 – 3 hours, then the worker is said to be highly efficient. \n",
    "##If the time required by the worker is between 3 – 4 hours, then the worker is ordered to improve speed. \n",
    "##If the time taken is between 4 – 5 hours, the worker is given training to improve his speed,\n",
    "##and if the time taken by the worker is more than 5 hours, then the worker has to leave the company.\n",
    "##If the time taken by the worker is input through the keyboard, \n",
    "###find the efficiency of the worker.\n",
    "\n",
    "\n",
    "hrs = float(input(\"Enter the Time Taken by Worker : \"))\n",
    "if(hrs>=2 and hrs<=3):\n",
    "    print(\"Worker is Highly Efficient..\")\n",
    "elif(hrs>3 and hrs <=4):\n",
    "    print(\"Worker Needs to Improve Speed..\")\n",
    "elif(hrs>4 and hrs <=5):\n",
    "    print(\"Give Training to Worker..\")\n",
    "else:\n",
    "    print(\"Worker is Leave the Company..\")"
   ]
  },
  {
   "cell_type": "markdown",
   "id": "7e34d66b",
   "metadata": {},
   "source": [
    "# Task -III"
   ]
  },
  {
   "cell_type": "code",
   "execution_count": 31,
   "id": "b5008670",
   "metadata": {},
   "outputs": [
    {
     "name": "stdout",
     "output_type": "stream",
     "text": [
      "Enter the Number :45\n",
      "1\n",
      "3\n",
      "5\n",
      "9\n",
      "15\n",
      "45\n"
     ]
    }
   ],
   "source": [
    "##1. Write a program to find the factor of the given number.\n",
    "\n",
    "\n",
    "x = int(input(\"Enter the Number :\"))\n",
    "for i in range(1, x + 1):\n",
    "       if x % i == 0:\n",
    "        print(i)"
   ]
  },
  {
   "cell_type": "code",
   "execution_count": 32,
   "id": "73dbc9f4",
   "metadata": {},
   "outputs": [
    {
     "name": "stdout",
     "output_type": "stream",
     "text": [
      "Enter a number: 23\n",
      "This is a Prime Number\n"
     ]
    }
   ],
   "source": [
    "###2. Write a program to find whether the given number is prime or not.\n",
    "\n",
    "x = int(input(\"Enter a number: \"))\n",
    "sum=0\n",
    "for i in range(1, x + 1):\n",
    "       if x % i == 0:\n",
    "           sum=sum+1\n",
    "if(sum==2):\n",
    "    print(\"This is a Prime Number\")\n",
    "else:\n",
    "    print(\"This is a Not Prime Number\")"
   ]
  },
  {
   "cell_type": "code",
   "execution_count": 2,
   "id": "25139de1",
   "metadata": {},
   "outputs": [
    {
     "name": "stdout",
     "output_type": "stream",
     "text": [
      "Enter the Number :173\n",
      "173 is a Not Armstrong Number\n"
     ]
    }
   ],
   "source": [
    "###3. Write a program to find the given number is Armstrong number or not.\n",
    "\n",
    "num = int(input(\"Enter the Number :\"))\n",
    "a=num\n",
    "sum=0\n",
    "while(num>0):\n",
    "    rem=num%10\n",
    "    sum=sum+(rem*rem*rem)\n",
    "    num=num//10\n",
    "if(sum==a):\n",
    "    print(a, \"is a Armstrong Number\")\n",
    "else:\n",
    "    print(a, \"is a Not Armstrong Number\")"
   ]
  },
  {
   "cell_type": "code",
   "execution_count": 3,
   "id": "cabfe8af",
   "metadata": {},
   "outputs": [
    {
     "name": "stdout",
     "output_type": "stream",
     "text": [
      "153 is a Armstrong Number\n",
      "370 is a Armstrong Number\n",
      "371 is a Armstrong Number\n",
      "407 is a Armstrong Number\n"
     ]
    }
   ],
   "source": [
    "###4.Write a program to print the Armstrong numbers between 100 to 999.\n",
    "\n",
    "\n",
    "\n",
    "for i in range(100,999):\n",
    "    a=i\n",
    "    sum=0\n",
    "    while(i>0):\n",
    "        rem=i%10\n",
    "        sum=sum+(rem*rem*rem)\n",
    "        i=i//10\n",
    "    if(sum==a):\n",
    "        print(a, \"is a Armstrong Number\")"
   ]
  },
  {
   "cell_type": "code",
   "execution_count": 5,
   "id": "235d1753",
   "metadata": {},
   "outputs": [
    {
     "name": "stdout",
     "output_type": "stream",
     "text": [
      "Enter the Limit :8\n",
      "Enter the Values :15\n",
      "Enter the Values :45\n",
      "Enter the Values :40\n",
      "Enter the Values :60\n",
      "Enter the Values :85\n",
      "Enter the Values :80\n",
      "Enter the Values :90\n",
      "Enter the Values :580\n",
      "Number of Even : 5\n",
      "Number of Odd : 1\n"
     ]
    }
   ],
   "source": [
    "###5. Write a program to count and print the number of odd and even numbers\n",
    "\n",
    "l = int(input(\"Enter the Limit :\"))\n",
    "even = []\n",
    "odd = []\n",
    "for i in range(l):\n",
    "    n = int(input(\"Enter the Values :\"))\n",
    "    if(n%2==0):\n",
    "        even.append(n)\n",
    "else:\n",
    "    odd.append(n)\n",
    "print(\"Number of Even :\",len(even))\n",
    "print(\"Number of Odd :\",len(odd))"
   ]
  },
  {
   "cell_type": "code",
   "execution_count": 6,
   "id": "fa2d8fc3",
   "metadata": {},
   "outputs": [
    {
     "name": "stdout",
     "output_type": "stream",
     "text": [
      "Enter the Number :85\n",
      "Before Number : 85\n",
      "Reverse Number : 58\n"
     ]
    }
   ],
   "source": [
    "##6. Write a program to find the reverse of n digit number using While loop\n",
    "\n",
    "num = int(input(\"Enter the Number :\"))\n",
    "a = num\n",
    "sum = 0\n",
    "while(num>0):\n",
    "    rem = num%10\n",
    "    sum = (sum*10)+rem\n",
    "    num = num//10\n",
    "print(\"Before Number :\",a)\n",
    "print(\"Reverse Number :\",sum)"
   ]
  },
  {
   "cell_type": "code",
   "execution_count": 7,
   "id": "c1326001",
   "metadata": {},
   "outputs": [
    {
     "name": "stdout",
     "output_type": "stream",
     "text": [
      "Enter the Binary Number :250\n",
      "The binary Number : 250\n",
      "The decimal Number : 18\n"
     ]
    }
   ],
   "source": [
    "###7. Write a program to find the binary number from given decimal number.\n",
    "\n",
    "\"\"\"\n",
    "num = input(\"Enter the Binary Number :\")\n",
    "dec_number= int(num, 2)\n",
    "print('The binary Number :', num)\n",
    "print('The decimal Number :', dec_number)\n",
    "\"\"\"\n",
    "binary = input(\"Enter the Binary Number :\")\n",
    "decimal = 0\n",
    "for digit in binary:\n",
    "    decimal = decimal*2 + int(digit)\n",
    "print('The binary Number :', binary)\n",
    "print('The decimal Number :', decimal)"
   ]
  },
  {
   "cell_type": "code",
   "execution_count": 9,
   "id": "57c3651e",
   "metadata": {},
   "outputs": [
    {
     "name": "stdout",
     "output_type": "stream",
     "text": [
      "Enter the Decimal Number :73\n",
      "Decimal Number : 73\n",
      "Binary Number : 1001001\n"
     ]
    }
   ],
   "source": [
    "##8. Write a program to find the decimal number from given Binary number.\n",
    "\n",
    "\n",
    "\n",
    "decimal= int(input(\"Enter the Decimal Number :\"))\n",
    "\n",
    "binary = 0\n",
    "ctr = 0\n",
    "temp = decimal\n",
    "while(temp > 0):\n",
    "    binary = ((temp%2)*(10**ctr)) + binary\n",
    "    temp = int(temp/2)\n",
    "    ctr += 1\n",
    "print(\"Decimal Number :\",decimal)\n",
    "print(\"Binary Number :\",binary)"
   ]
  },
  {
   "cell_type": "code",
   "execution_count": 12,
   "id": "0524cd7a",
   "metadata": {},
   "outputs": [
    {
     "name": "stdout",
     "output_type": "stream",
     "text": [
      "Input a number to compute the factiorial : 28\n",
      "304888344611713860501504000000\n"
     ]
    }
   ],
   "source": [
    "###9. Write a program to find the factorial of the given number.\n",
    "\n",
    "def factorial(n):\n",
    "    if n == 0:\n",
    "        return 1\n",
    "    else:\n",
    "        return n * factorial(n-1)\n",
    "n=int(input(\"Input a number to compute the factiorial : \"))\n",
    "print(factorial(n))"
   ]
  },
  {
   "cell_type": "code",
   "execution_count": 13,
   "id": "f27fe259",
   "metadata": {},
   "outputs": [],
   "source": [
    "###10. Write a program to find the Fibonacci Series of the given number.\n",
    "\n"
   ]
  },
  {
   "cell_type": "code",
   "execution_count": 14,
   "id": "8159adbe",
   "metadata": {},
   "outputs": [
    {
     "name": "stdout",
     "output_type": "stream",
     "text": [
      "Enter any number: 258\n",
      "The number is not a Perfect number!\n"
     ]
    }
   ],
   "source": [
    "##11. Write a program to find the given number is perfect number\n",
    "\n",
    "\n",
    "n = int(input(\"Enter any number: \"))\n",
    "sum1 = 0\n",
    "for i in range(1, n):\n",
    "    if(n % i == 0):\n",
    "        sum1 = sum1 + i\n",
    "if (sum1 == n):\n",
    "    print(\"The number is a Perfect number!\")\n",
    "else:\n",
    "    print(\"The number is not a Perfect number!\")"
   ]
  },
  {
   "cell_type": "code",
   "execution_count": 15,
   "id": "9137b63d",
   "metadata": {},
   "outputs": [
    {
     "name": "stdout",
     "output_type": "stream",
     "text": [
      "1\n",
      "2\n",
      "4\n",
      "5\n",
      "8\n",
      "10\n",
      "20\n",
      "25\n",
      "40\n",
      "50\n",
      "100\n",
      "125\n",
      "200\n",
      "250\n",
      "500\n"
     ]
    }
   ],
   "source": [
    "##12. Write a program to print the perfect number between 1-1000\n",
    "\n",
    "num = 1000\n",
    "for i in range(1, num):\n",
    "       if num % i == 0:\n",
    "           print(i)"
   ]
  },
  {
   "cell_type": "code",
   "execution_count": 19,
   "id": "28fce0b3",
   "metadata": {},
   "outputs": [
    {
     "ename": "IndentationError",
     "evalue": "expected an indented block after 'for' statement on line 9 (3464113818.py, line 10)",
     "output_type": "error",
     "traceback": [
      "\u001b[1;36m  Cell \u001b[1;32mIn[19], line 10\u001b[1;36m\u001b[0m\n\u001b[1;33m    fact = fact*i\u001b[0m\n\u001b[1;37m    ^\u001b[0m\n\u001b[1;31mIndentationError\u001b[0m\u001b[1;31m:\u001b[0m expected an indented block after 'for' statement on line 9\n"
     ]
    }
   ],
   "source": [
    "##13. Write a program to find the given number is strong number\n",
    "\n",
    "num = int(input(\"Enter the Number :\"))\n",
    "a = num\n",
    "sum = 0\n",
    "while(num>0):\n",
    "    rem = num%10;\n",
    "    fact = 1;\n",
    "    for i in range(1,rem+1):\n",
    "    fact = fact*i\n",
    "    sum = sum+fact;\n",
    "    num = num//10;\n",
    "if (sum == a):\n",
    "    print(a,\"is Strong Number\");\n",
    "else:\n",
    "    print(a ,\"is not a Strong Number\");"
   ]
  },
  {
   "cell_type": "code",
   "execution_count": 23,
   "id": "c1ce040e",
   "metadata": {},
   "outputs": [
    {
     "name": "stdout",
     "output_type": "stream",
     "text": [
      "Enter the base number: 2586\n",
      "Enter the exponent (power): 5\n",
      "2586.0 raised to the power of 5.0 is 1.1564919196447018e+17\n"
     ]
    }
   ],
   "source": [
    "####14. Two numbers are entered through the keyboard. Write a program to\n",
    "###find the value of one number raised to the power of another.\n",
    "\n",
    "\n",
    "base = float(input(\"Enter the base number: \"))\n",
    "exponent = float(input(\"Enter the exponent (power): \"))\n",
    "result = base ** exponent\n",
    "print(f\"{base} raised to the power of {exponent} is {result}\")"
   ]
  },
  {
   "cell_type": "code",
   "execution_count": null,
   "id": "4aa66818",
   "metadata": {},
   "outputs": [],
   "source": []
  }
 ],
 "metadata": {
  "kernelspec": {
   "display_name": "Python 3 (ipykernel)",
   "language": "python",
   "name": "python3"
  },
  "language_info": {
   "codemirror_mode": {
    "name": "ipython",
    "version": 3
   },
   "file_extension": ".py",
   "mimetype": "text/x-python",
   "name": "python",
   "nbconvert_exporter": "python",
   "pygments_lexer": "ipython3",
   "version": "3.11.4"
  }
 },
 "nbformat": 4,
 "nbformat_minor": 5
}
