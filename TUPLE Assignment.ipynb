{
 "cells": [
  {
   "cell_type": "code",
   "execution_count": 4,
   "id": "eed55eda",
   "metadata": {},
   "outputs": [
    {
     "name": "stdout",
     "output_type": "stream",
     "text": [
      "()\n",
      "<class 'tuple'>\n"
     ]
    }
   ],
   "source": [
    "###1. Write a Python program to create a tuple Sample Output\n",
    "##Tuple = ()\n",
    "\n",
    "a = ()\n",
    "print(a)\n",
    "print(type(a))"
   ]
  },
  {
   "cell_type": "code",
   "execution_count": 5,
   "id": "32661750",
   "metadata": {},
   "outputs": [
    {
     "name": "stdout",
     "output_type": "stream",
     "text": [
      "('Tutor Joes', True, 'T', 3.21, 10)\n"
     ]
    }
   ],
   "source": [
    "###2. Write a Python program to create a tuple with different data types Sample Output\n",
    "###('Tutor Joes', True, 'T', 3.21, 10)\n",
    "\n",
    "a = ('Tutor Joes', True, 'T', 3.21, 10)\n",
    "print(a)"
   ]
  },
  {
   "cell_type": "code",
   "execution_count": 11,
   "id": "ca95ec1c",
   "metadata": {},
   "outputs": [
    {
     "name": "stdout",
     "output_type": "stream",
     "text": [
      "(10,)\n",
      "<class 'tuple'>\n"
     ]
    }
   ],
   "source": [
    "###3. Write a Python program to create a tuple with numbers and print one item Sample Output\n",
    "##10\n",
    "##Type = tuple\n",
    "\n",
    "a = 10,\n",
    "print(a)\n",
    "print(type(a))"
   ]
  },
  {
   "cell_type": "code",
   "execution_count": 14,
   "id": "bdac26b0",
   "metadata": {},
   "outputs": [
    {
     "name": "stdout",
     "output_type": "stream",
     "text": [
      "(4, 8, 3)\n",
      "a = 4\n",
      "b = 8\n",
      "c = 3\n"
     ]
    }
   ],
   "source": [
    "####4. Write a Python program to unpack a tuple in several variables Sample Output\n",
    "###a = 4, 8, 3\n",
    "###(4, 8, 3)\n",
    "\n",
    "a = 4,8,3\n",
    "print(a)\n",
    "a, b, c = a\n",
    "print(\"a =\", a)\n",
    "print(\"b =\", b)\n",
    "print(\"c =\", c)"
   ]
  },
  {
   "cell_type": "code",
   "execution_count": 15,
   "id": "af67dc02",
   "metadata": {},
   "outputs": [
    {
     "name": "stdout",
     "output_type": "stream",
     "text": [
      "(4, 8, 3)\n",
      "4 8 3\n"
     ]
    }
   ],
   "source": [
    "a = 4,8,3\n",
    "print(a)\n",
    "n1, n2, n3 = a\n",
    "print(n1, n2, n3)\n"
   ]
  },
  {
   "cell_type": "code",
   "execution_count": 18,
   "id": "c076afd8",
   "metadata": {},
   "outputs": [
    {
     "name": "stdout",
     "output_type": "stream",
     "text": [
      "(10, 40, 50, 70, 90)\n",
      "(10, 40, 50, 70, 90, 20)\n"
     ]
    }
   ],
   "source": [
    "###5. Write a Python program to add an item in a tuple Sample Output\n",
    "###(10, 40, 50, 70, 90)\n",
    "##add items in list = 20\n",
    "##(10, 40, 50, 70, 90, 20)\n",
    "\n",
    "a = (10, 40, 50, 70, 90)\n",
    "print(a)\n",
    "a = a + (20,)\n",
    "print(a)"
   ]
  },
  {
   "cell_type": "code",
   "execution_count": 19,
   "id": "41ec5653",
   "metadata": {},
   "outputs": [
    {
     "name": "stdout",
     "output_type": "stream",
     "text": [
      "Tutor Joes\n"
     ]
    }
   ],
   "source": [
    "###6. Write a Python program to convert a tuple to a string Sample Output\n",
    "###('T', 'u', 't', 'o', 'r', ' ', 'J', 'o', 'e', 's')\n",
    "###Tutor Joes\n",
    "\n",
    "a = ('T', 'u', 't', 'o', 'r', ' ', 'J', 'o', 'e', 's')\n",
    "b = ''.join(a)\n",
    "print(b)"
   ]
  },
  {
   "cell_type": "code",
   "execution_count": 20,
   "id": "26b6bdec",
   "metadata": {},
   "outputs": [
    {
     "name": "stdout",
     "output_type": "stream",
     "text": [
      "('w', 3, 'r', 'e', 's', 'o', 'u', 'r', 'c', 'e')\n",
      "4th Elements From Tuple : e\n",
      "4th Elements From Last Tuple : u\n"
     ]
    }
   ],
   "source": [
    "###7. Write a Python program to get the 4th element and 4th element from last of a tuple Sample Output\n",
    "###('w', 3, 'r', 'e', 's', 'o', 'u', 'r', 'c', 'e')\n",
    "###4th Elements From Tuple : e\n",
    "###4th Elements From Last Tuple : u\n",
    "\n",
    "c = ('w', 3, 'r', 'e', 's', 'o', 'u', 'r', 'c', 'e')\n",
    "print(c)\n",
    "i = c[3]\n",
    "print(\"4th Elements From Tuple :\",i)\n",
    "j = c[-4]\n",
    "print(\"4th Elements From Last Tuple :\",j)"
   ]
  },
  {
   "cell_type": "code",
   "execution_count": 23,
   "id": "28b7b0ad",
   "metadata": {},
   "outputs": [
    {
     "name": "stdout",
     "output_type": "stream",
     "text": [
      "('Tutor', 'J', 23, 56.67, [23, 12], True)\n",
      "('Tutor', 'J', 23, 56.67, [23, 12, 50], True)\n",
      "('Tutor', 'J', 23, 56.67, [23, 12], True)\n"
     ]
    }
   ],
   "source": [
    "####8. Write a Python program to create the colon of a tuple Sample Output\n",
    "###(\"Tutor\", 'J', 23 , 56.67 , [23,12] , True)\n",
    "###Copy = ('Tutor', 'J', 23, 56.67, [23, 12], True)\n",
    "\n",
    "from copy import deepcopy\n",
    "\n",
    "t = (\"Tutor\", 'J', 23 , 56.67 , [23,12] , True) \n",
    "print(t)\n",
    "\n",
    "tc = deepcopy(t)\n",
    "tc[4].append(50)\n",
    "print(tc)\n",
    "print(t)"
   ]
  },
  {
   "cell_type": "code",
   "execution_count": 26,
   "id": "d87c2c55",
   "metadata": {},
   "outputs": [
    {
     "name": "stdout",
     "output_type": "stream",
     "text": [
      "(2, 34, 45, 6, 7, 2, 4, 5, 78, 34, 2)\n",
      "3\n"
     ]
    }
   ],
   "source": [
    "###9. Write a Python program to find the repeated items of a tuple Sample Output\n",
    "###(2, 34, 45, 6, 7, 2, 4, 5, 78, 34, 2)\n",
    "###item = 2\n",
    "####Repeated items of a tuple = 3\n",
    "\n",
    "\n",
    "t = (2,34,45,6,7,2,4,5,78,34,2)\n",
    "print(t)\n",
    "count = t.count(2)\n",
    "print(count)"
   ]
  },
  {
   "cell_type": "code",
   "execution_count": 27,
   "id": "4d7fbc00",
   "metadata": {},
   "outputs": [
    {
     "name": "stdout",
     "output_type": "stream",
     "text": [
      "True\n",
      "False\n"
     ]
    }
   ],
   "source": [
    "####10. Write a Python program to check whether an element exists within a tuple Sample Output\n",
    "##('T', 'u', 't', 'o', 'r', ' ', 'J', 'o', 'e', 's',8)\n",
    "###8 in Tuple = True\n",
    "###'x' in Tuple = False\n",
    "\n",
    "t = ('T', 'u', 't', 'o', 'r', ' ', 'J', 'o', 'e', 's',8)\n",
    "print(8 in t)\n",
    "print('x' in t)\n"
   ]
  },
  {
   "cell_type": "code",
   "execution_count": 28,
   "id": "42607856",
   "metadata": {},
   "outputs": [
    {
     "name": "stdout",
     "output_type": "stream",
     "text": [
      "[12, 45, 87, 54, 89, 4]\n",
      "<class 'list'>\n",
      "(12, 45, 87, 54, 89, 4)\n",
      "<class 'tuple'>\n"
     ]
    }
   ],
   "source": [
    "###11. Write a Python program to convert a list to a tuple Sample Output\n",
    "###[12, 45, 87, 54, 89, 4]\n",
    "###(12, 45, 87, 54, 89, 4)\n",
    "\n",
    "l = [12,45,87,54,89,4]\n",
    "print(l)\n",
    "print(type(l))\n",
    "t = tuple(l)\n",
    "print(t)\n",
    "print(type(t))"
   ]
  },
  {
   "cell_type": "code",
   "execution_count": 31,
   "id": "c5519c54",
   "metadata": {},
   "outputs": [
    {
     "name": "stdout",
     "output_type": "stream",
     "text": [
      "(23, 45, 56, 68, 10, 45, 7, 9)\n",
      "After Removing A : (23, 45, 68, 10, 45, 7, 9)\n"
     ]
    }
   ],
   "source": [
    "###12. Write a Python program to remove an item from a tuple Sample Output\n",
    "###(23, 45, 56, 68, 10, 45, 7, 9)\n",
    "###Remove = 56\n",
    "###(23, 45, 68, 10, 45, 7, 9)\n",
    "\n",
    "a = (23,45,56,68,10,45,7,9)\n",
    "print(a)\n",
    "b = list(a)\n",
    "b.remove(56)\n",
    "a = tuple(b)\n",
    "print(\"After Removing A :\",a)"
   ]
  },
  {
   "cell_type": "code",
   "execution_count": 33,
   "id": "a67e062c",
   "metadata": {},
   "outputs": [
    {
     "name": "stdout",
     "output_type": "stream",
     "text": [
      "(40, 50, 60, 70, 80)\n"
     ]
    }
   ],
   "source": [
    "###13. Write a Python program to slice a tuple Sample Output\n",
    "###(10, 20, 30, 40, 50, 60, 70, 80, 90, 100)\n",
    "###(40, 50, 60, 70, 80)\n",
    "\n",
    "a = (10,20,30,40,50,60,70,80,90,100)\n",
    "print(a[3:8])\n"
   ]
  },
  {
   "cell_type": "code",
   "execution_count": 35,
   "id": "4c795ee2",
   "metadata": {},
   "outputs": [
    {
     "name": "stdout",
     "output_type": "stream",
     "text": [
      "Index Number : 3\n"
     ]
    }
   ],
   "source": [
    "###14. Write a Python program to find the index of an item of a tuple Sample Output\n",
    "###(23, 45, 67, 78, 89, 90, 34, 56)\n",
    "###Item = 78\n",
    "###Index Number : 3\n",
    "\n",
    "a = (23,45,67,78,89,90,34,56)\n",
    "print(\"Index Number :\",a.index(78))\n"
   ]
  },
  {
   "cell_type": "code",
   "execution_count": 36,
   "id": "97dc38df",
   "metadata": {},
   "outputs": [
    {
     "name": "stdout",
     "output_type": "stream",
     "text": [
      "Length : 6\n"
     ]
    }
   ],
   "source": [
    "###15. Write a Python program to find the length of a tuple Sample Output\n",
    "###(\"Lion\", \"Cat\", \"Dog\", \"Panda\", \"Tiger\", \"Fox\")\n",
    "###Length : 6\n",
    "\n",
    "\n",
    "a = (\"Lion\",\"Cat\",\"Dog\",\"Panda\",\"Tiger\",\"Fox\")\n",
    "print(\"Length :\",len(a))"
   ]
  },
  {
   "cell_type": "code",
   "execution_count": 1,
   "id": "f5dee603",
   "metadata": {},
   "outputs": [
    {
     "name": "stdout",
     "output_type": "stream",
     "text": [
      "{'Name': 'Ram', 'Age': 23, 'City': 'Salem', 'Mark': 422}\n"
     ]
    }
   ],
   "source": [
    "###16. Write a Python program to convert a tuple to a dictionary Sample Output\n",
    "###( (\"Name\", \"Ram\"), (\"Age\", 23), (\"City\", \"Salem\"), (\"Mark\", 422) ){ 'Name': 'Ram', 'Age': 23, 'City': 'Salem', 'Mark': 422 }\n",
    "\n",
    "t = ((\"Name\", \"Ram\"),(\"Age\", 23),(\"City\", \"Salem\"),(\"Mark\", 422))\n",
    "print(dict((k,v) for k, v in t))"
   ]
  },
  {
   "cell_type": "code",
   "execution_count": 2,
   "id": "0b51c2b2",
   "metadata": {},
   "outputs": [
    {
     "name": "stdout",
     "output_type": "stream",
     "text": [
      "[(10, 60, 20), (30, 90, 50)]\n"
     ]
    }
   ],
   "source": [
    "###17. Write a Python program to unzip a list of tuples into individual lists\n",
    "##Sample Output\n",
    "##[ (10,30), (60,90), (20,50) ]\n",
    "##[ (10, 60, 20), (30, 90, 50) ]\n",
    "\n",
    "l = [(10,30), (60,90), (20,50)]\n",
    "print(list(zip(*l)))"
   ]
  },
  {
   "cell_type": "code",
   "execution_count": 4,
   "id": "b5c97a21",
   "metadata": {},
   "outputs": [
    {
     "name": "stdout",
     "output_type": "stream",
     "text": [
      "Before Reverse : (23, 45, 67, 78, 89, 90, 34, 56)\n",
      "After Reverse : (56, 34, 90, 89, 78, 67, 45, 23)\n"
     ]
    }
   ],
   "source": [
    "###18. Write a Python program to reverse a tuple\n",
    "###Sample Output\n",
    "###Before Reverse : ( 23, 45, 67, 78, 89, 90, 34, 56 )\n",
    "##After Reverse : ( 56, 34, 90, 89, 78, 67, 45, 23 )\n",
    "\n",
    "a = (23,45,67,78,89,90,34,56)\n",
    "print(\"Before Reverse :\",a)\n",
    "print(\"After Reverse :\",a[::-1])"
   ]
  },
  {
   "cell_type": "code",
   "execution_count": 5,
   "id": "3a4bd497",
   "metadata": {},
   "outputs": [
    {
     "name": "stdout",
     "output_type": "stream",
     "text": [
      "{'Name': ['Ram', 'Pooja', 'Sara'], 'Age': [21, 23, 22], 'Gender': ['Male', 'Female', 'Female']}\n"
     ]
    }
   ],
   "source": [
    "###19. Write a Python program to convert a list of tuples into a dictionary\n",
    "##Sample Output\n",
    "##[ (\"Name\", \"Ram\"), (\"Name\", \"Pooja\"), (\"Age\", 21), (\"Gender\", \"Male\"), (\"Age\", 23), (\"Gender\", \"Female\") ]\n",
    "##{ 'Name' : ['Ram', 'Pooja'], 'Age' : [21, 23], 'Gender' : ['Male', 'Female'] }\n",
    "\n",
    "l = [(\"Name\", \"Ram\"), (\"Name\", \"Pooja\"), (\"Name\", \"Sara\"), (\"Age\", 21), (\"Gender\", \"Male\"), (\"Age\", 23), (\"Gender\", \"Female\"), (\"Gender\", \"Female\") , (\"Age\", 22)]\n",
    "dic = {}\n",
    "for x, y in l:\n",
    "    dic.setdefault(x, []).append(y)\n",
    "print (dic)"
   ]
  },
  {
   "cell_type": "code",
   "execution_count": 6,
   "id": "7f54117b",
   "metadata": {},
   "outputs": [
    {
     "name": "stdout",
     "output_type": "stream",
     "text": [
      "Fruits ('watermelons', 'strawberries', 'mangoes', 'bananas', 'grapefruits', 'oranges', 'apples', 'pears')\n",
      "{'Name': ['Ram', 'Pooja', 'Sara'], 'Age': [21, 23, 22], 'Gender': ['Male', 'Female', 'Female']}\n"
     ]
    }
   ],
   "source": [
    "##20. Write a Python program to print a tuple with string formatting\n",
    "##Sample Output\n",
    "##(\"watermelons\", \"strawberries\", \"mangoes\", \"bananas\", \"grapefruits\", \"oranges\", \"apples\", \"pears\")\n",
    "##Fruits ('watermelons', 'strawberries', 'mangoes', 'bananas', 'grapefruits', 'oranges', 'apples', 'pears')\n",
    "\n",
    "\n",
    "t = (\"watermelons\", \"strawberries\", \"mangoes\", \"bananas\", \"grapefruits\", \"oranges\", \"apples\", \"pears\")\n",
    "print('Fruits {0}'.format(t))\n",
    "print (dic)"
   ]
  },
  {
   "cell_type": "code",
   "execution_count": 7,
   "id": "f79b66d7",
   "metadata": {},
   "outputs": [
    {
     "name": "stdout",
     "output_type": "stream",
     "text": [
      "23\n",
      "<class 'int'>\n",
      "(23,)\n",
      "<class 'tuple'>\n"
     ]
    }
   ],
   "source": [
    "###21. Create a tuple with single item 23\n",
    "###Sample Output\n",
    "###Create a tuple with Item = 23\n",
    "##Type = tuple\n",
    "\n",
    "t= (23)\n",
    "print(t)\n",
    "print(type(t))\n",
    "tup = (23,)\n",
    "print(tup)\n",
    "print(type(tup))"
   ]
  },
  {
   "cell_type": "code",
   "execution_count": 8,
   "id": "c71d77d7",
   "metadata": {},
   "outputs": [
    {
     "name": "stdout",
     "output_type": "stream",
     "text": [
      "11\n",
      "22\n",
      "33\n",
      "44\n",
      "55\n"
     ]
    }
   ],
   "source": [
    "###22. Unpack the tuple into 5 variables\n",
    "###Sample Output\n",
    "##Tuple = (11, 22, 333, 44, 55)\n",
    "##11\n",
    "##22\n",
    "##33\n",
    "##44\n",
    "##55\n",
    "\n",
    "t = (11, 22, 33, 44, 55)\n",
    "m, n, p, q, r = t\n",
    "print(m)\n",
    "print(n)\n",
    "print(p)\n",
    "print(q)\n",
    "print(r)"
   ]
  },
  {
   "cell_type": "code",
   "execution_count": 10,
   "id": "6d033f3c",
   "metadata": {},
   "outputs": [
    {
     "name": "stdout",
     "output_type": "stream",
     "text": [
      "Before Swap A : 10\n",
      "Before Swap b : 20\n",
      "After Swap A : 20\n",
      "After Swap b : 20\n"
     ]
    }
   ],
   "source": [
    "###23. Swap two tuples in Python\n",
    "##Sample Output\n",
    "##Before Swap A : 10\n",
    "##Before Swap B : 20\n",
    "##After Swap A : 20\n",
    "##After Swap B : 10\n",
    "\n",
    "a=10\n",
    "b=20\n",
    "print(\"Before Swap A :\",a)\n",
    "print(\"Before Swap b :\",b)\n",
    "\n",
    "t = a\n",
    "a = b\n",
    "b = a\n",
    "print(\"After Swap A :\",a)\n",
    "print(\"After Swap b :\",b)"
   ]
  },
  {
   "cell_type": "code",
   "execution_count": 11,
   "id": "7724b020",
   "metadata": {},
   "outputs": [
    {
     "name": "stdout",
     "output_type": "stream",
     "text": [
      "(30, 40, 50, 60, 70, 80)\n"
     ]
    }
   ],
   "source": [
    "###24. Copy specific elements from one tuple to a new tuple\n",
    "##Sample Output\n",
    "##(10, 20, 30, 40, 50, 60, 70, 80, 90, 100)\n",
    "##(30, 40, 50, 60, 70, 80)\n",
    "\n",
    "t1 = (10,20,30,40,50,60,70,80,90,100)\n",
    "t2 = t1[2:8]\n",
    "print(t2)"
   ]
  },
  {
   "cell_type": "code",
   "execution_count": 14,
   "id": "e1efd4f4",
   "metadata": {},
   "outputs": [
    {
     "name": "stdout",
     "output_type": "stream",
     "text": [
      "Original Tuple : (10, 20, 30, 40, 50)\n",
      "Modify Tuple : (10, 20, 33, 40, 50)\n"
     ]
    }
   ],
   "source": [
    "###25. Modify the tuple\n",
    "##Sample Output\n",
    "##( 10, 20, 30, 40, 50 )\n",
    "##( 10, 20, 33, 40, 50 )\n",
    "\n",
    "t1 = (10,20,30,40,50)\n",
    "print(\"Original Tuple :\",t1)\n",
    "l = list(t1)\n",
    "l[2]=33\n",
    "t1 = tuple(l)\n",
    "print(\"Modify Tuple :\",t1)"
   ]
  },
  {
   "cell_type": "code",
   "execution_count": 15,
   "id": "408c3d75",
   "metadata": {},
   "outputs": [
    {
     "name": "stdout",
     "output_type": "stream",
     "text": [
      "(('d', 1), ('e', 18), ('c', 23), ('b', 37), ('a', 53))\n"
     ]
    }
   ],
   "source": [
    "###26. Sort a tuple of tuples by 2nd item\n",
    "##Sample Output\n",
    "##( ('a', 53), ('b', 37), ('c', 23), ('d', 1), ('e', 18) )\n",
    "##( ('d', 1), ('e', 18), ('c', 23), ('b', 37), ('a', 53) )\n",
    "\n",
    "t = (('a', 53), ('b', 37), ('c', 23), ('d', 1), ('e', 18))\n",
    "t = tuple(sorted(list(t), key=lambda x: x[1]))\n",
    "print(t)"
   ]
  },
  {
   "cell_type": "code",
   "execution_count": 16,
   "id": "0df14c86",
   "metadata": {},
   "outputs": [
    {
     "name": "stdout",
     "output_type": "stream",
     "text": [
      "Number of Counts 30 : 3\n"
     ]
    }
   ],
   "source": [
    "##27. Counts the number of occurrences of item 30 from a tuple\n",
    "##Sample Output\n",
    "##(30, 50, 10, 30, 70, 50, 30)\n",
    "##Number of Counts 30 : 3\n",
    "\n",
    "t = (30, 50, 10, 30, 70, 50, 30)\n",
    "print(\"Number of Counts 30 :\",t.count(30))"
   ]
  },
  {
   "cell_type": "code",
   "execution_count": 17,
   "id": "48c609f0",
   "metadata": {},
   "outputs": [
    {
     "name": "stdout",
     "output_type": "stream",
     "text": [
      "A : (2, 5, 8)\n",
      "B : (6, 5, 1)\n",
      "C : (1, 4, 7)\n",
      "D : (3, 7, 2)\n",
      "Sum of Elements: (12, 21, 18)\n"
     ]
    }
   ],
   "source": [
    "##28. Write a Python program to compute element-wise sum of given tuples\n",
    "###Sample Output\n",
    "##A = (2, 5, 8)\n",
    "##B = (6, 5, 1)\n",
    "##C = (1, 4, 7)\n",
    "##D = (3, 7, 2)\n",
    "##Sum of Elements = (12, 21, 18)\n",
    "\n",
    "\n",
    "a = (2, 5, 8)\n",
    "b = (6, 5, 1)\n",
    "c = (1, 4, 7)\n",
    "d = (3, 7, 2)\n",
    "print(\"A :\",a)\n",
    "print(\"B :\",b)\n",
    "print(\"C :\",c)\n",
    "print(\"D :\",d)\n",
    "res = tuple(map(sum, zip(a, b, c, d)))\n",
    "print(\"Sum of Elements:\",res)"
   ]
  },
  {
   "cell_type": "code",
   "execution_count": 18,
   "id": "6e2b115b",
   "metadata": {},
   "outputs": [
    {
     "name": "stdout",
     "output_type": "stream",
     "text": [
      "[('Jeeva', '91.40'), ('Ram', '89.20'), ('Pooja', '84.40'), ('Siva', '76.45'), ('Tara', '68.43')]\n"
     ]
    }
   ],
   "source": [
    "##29. Write a Python program to sort a tuple by its float element\n",
    "##Sample Output\n",
    "##[ ('Ram', '89.20'), ('Siva', '76.45'), ('Pooja', '84.40'), ('Tara', '68.43'), ('Jeeva', '91.40') ]\n",
    "##[ ('Jeeva', '91.40'), ('Ram', '89.20'), ('Pooja', '84.40'), ('Siva', '76.45'), ('Tara', '68.43') ]\n",
    "\n",
    "Percent = [('Ram', '89.20'), ('Siva', '76.45'), ('Pooja', '84.40'), ('Tara', '68.43'), ('Jeeva', '91.40')]\n",
    "print( sorted(Percent, key=lambda a: float(a[1]), reverse=True))"
   ]
  },
  {
   "cell_type": "code",
   "execution_count": 19,
   "id": "4b1c0ae7",
   "metadata": {},
   "outputs": [
    {
     "name": "stdout",
     "output_type": "stream",
     "text": [
      "[(5, 2, 10), (4, 7, 10), (8, 9, 10)]\n"
     ]
    }
   ],
   "source": [
    "##30. Write a Python program to replace last value of tuples in a list\n",
    "##Sample Output\n",
    "##[(5, 2, 3), (4, 7, 6), (8, 9, 6)]\n",
    "##Replace value = 10\n",
    "##[(5, 2, 10),(4, 7, 10),(8, 9, 10)]\n",
    "\n",
    "l = [(5, 2, 3), (4, 7, 6), (8, 9, 6)]\n",
    "print([t[:-1] + (10,) for t in l])"
   ]
  },
  {
   "cell_type": "code",
   "execution_count": 20,
   "id": "3f0dd00d",
   "metadata": {},
   "outputs": [
    {
     "name": "stdout",
     "output_type": "stream",
     "text": [
      "Original List :  [(47, 23), (3, 78), (22, 53), (121, 45), (7,)]\n",
      "Extracted Tuples :  [(47, 23), (22, 53)]\n"
     ]
    }
   ],
   "source": [
    "##31. Write a Python program to Extract tuples having K digit elements\n",
    "##Sample Output\n",
    "##[ (47, 23), (3, 78), (22, 53), (121, 45), (7,) ]\n",
    "##K = 2\n",
    "##[ (47, 23), (22, 53) ]\n",
    "\n",
    "val = [(47, 23), (3, 78), (22, 53), (121, 45), (7, )]\n",
    "print(\"Original List : \" ,val)\n",
    "K = 2\n",
    "res = [sub for sub in val if all(len(str(ele)) == K for ele in sub)]\n",
    "print(\"Extracted Tuples : \" ,res)"
   ]
  },
  {
   "cell_type": "code",
   "execution_count": 21,
   "id": "53dd41c3",
   "metadata": {},
   "outputs": [
    {
     "name": "stdout",
     "output_type": "stream",
     "text": [
      "The original list is :  [(18, 23), (2, 9), (7, 6), (9, 2), (10, 2), (23, 18)]\n",
      "The Symmetric tuples :  {(2, 9), (18, 23)}\n"
     ]
    }
   ],
   "source": [
    "###32. Write a Python program to Extract Symmetric Tuples\n",
    "##Sample Output\n",
    "##[ (18, 23), (2, 9), (7, 6), (9, 2), (10, 2), (23, 18) ]\n",
    "##{ (2, 9), (18, 23) }\n",
    "\n",
    "\n",
    "val = [(18, 23), (2, 9), (7, 6), (9, 2), (10, 2), (23, 18)]\n",
    "print(\"The original list is : \" ,val)\n",
    "temp = set(val) & {(b, a) for a, b in val}\n",
    "res = {(a, b) for a, b in temp if a < b} \n",
    "print(\"The Symmetric tuples : \" , res)"
   ]
  },
  {
   "cell_type": "code",
   "execution_count": 24,
   "id": "b1131bd9",
   "metadata": {},
   "outputs": [
    {
     "name": "stdout",
     "output_type": "stream",
     "text": [
      "The original list is : [(4, 5, 5, 7), (1, 3, 7, 4), (19, 4, 5, 3), (1, 2)]\n",
      "Sorted Tuples :  [(19, 4, 5, 3), (4, 5, 5, 7), (1, 3, 7, 4), (1, 2)]\n"
     ]
    }
   ],
   "source": [
    "##33. Write a Python program to Sort Tuples by their Maximum element\n",
    "###Sample Output\n",
    "##[ (4, 5, 5, 7), (1, 3, 7, 4), (19, 4, 5, 3), (1, 2) ]\n",
    "##[ (19, 4, 5, 3), (4, 5, 5, 7), (1, 3, 7, 4), (1, 2) ]\n",
    "\n",
    "val = [(4, 5, 5, 7), (1, 3, 7, 4), (19, 4, 5, 3), (1, 2)]\n",
    "print(\"The original list is : \" + str(val))\n",
    "s = sorted(list(val))\n",
    "s.reverse()\n",
    "print(\"Sorted Tuples : \" , s)"
   ]
  },
  {
   "cell_type": "code",
   "execution_count": 25,
   "id": "b0ee85f5",
   "metadata": {},
   "outputs": [
    {
     "ename": "IndentationError",
     "evalue": "expected an indented block after 'if' statement on line 10 (3960997033.py, line 11)",
     "output_type": "error",
     "traceback": [
      "\u001b[1;36m  Cell \u001b[1;32mIn[25], line 11\u001b[1;36m\u001b[0m\n\u001b[1;33m    res.append(i)\u001b[0m\n\u001b[1;37m    ^\u001b[0m\n\u001b[1;31mIndentationError\u001b[0m\u001b[1;31m:\u001b[0m expected an indented block after 'if' statement on line 10\n"
     ]
    }
   ],
   "source": [
    "##34. Write a Python program to Remove nested records from tuple\n",
    "##Sample Output\n",
    "##(10, 20, (30,), 40, (50, 60), 70)\n",
    "##Removal of Nested Tuple : (10, 20, 40, 70)\n",
    "\n",
    "val = (10, 20 , (30,), 40, (50, 60), 70)\n",
    "print(\"Original Tuple : \" , val)\n",
    "res=[]\n",
    "for i in val:\n",
    "    if not type(i) is tuple:\n",
    "    res.append(i)\n",
    "res=tuple(res)\n",
    "print(\"Removal of Nested Tuple : \" ,res)"
   ]
  },
  {
   "cell_type": "code",
   "execution_count": 26,
   "id": "24bc63a0",
   "metadata": {},
   "outputs": [
    {
     "ename": "IndentationError",
     "evalue": "expected an indented block after 'else' statement on line 11 (85190670.py, line 12)",
     "output_type": "error",
     "traceback": [
      "\u001b[1;36m  Cell \u001b[1;32mIn[26], line 12\u001b[1;36m\u001b[0m\n\u001b[1;33m    yield e\u001b[0m\n\u001b[1;37m    ^\u001b[0m\n\u001b[1;31mIndentationError\u001b[0m\u001b[1;31m:\u001b[0m expected an indented block after 'else' statement on line 11\n"
     ]
    }
   ],
   "source": [
    "###35. Write a Python program to Elements Frequency in Mixed Nested Tuple\n",
    "##Sample Output\n",
    "##(10, 20, (20, 10), 30, (40, 50, 60), 60, 70)\n",
    "##Elements Frequency : {10: 2, 20: 2, 30: 1, 40: 1, 50: 1, 60: 2, 70: 1}\n",
    "\n",
    "\n",
    "def flatten(val):\n",
    "    for e in val:\n",
    "        if isinstance(e, tuple):\n",
    "            yield from flatten(e)\n",
    "        else:\n",
    "        yield e\n",
    "val = (10, 20, (20, 10), 30, (40, 50, 60), 60 ,70)\n",
    "print(\"The Original Elements : \" ,val)\n",
    "res = {}\n",
    "for i in flatten(val):\n",
    "    if i not in res:\n",
    "        res[i] = 0\n",
    "        res[i] += 1"
   ]
  },
  {
   "cell_type": "code",
   "execution_count": 27,
   "id": "8d1ff626",
   "metadata": {},
   "outputs": [
    {
     "ename": "IndentationError",
     "evalue": "expected an indented block after 'if' statement on line 12 (3577540374.py, line 13)",
     "output_type": "error",
     "traceback": [
      "\u001b[1;36m  Cell \u001b[1;32mIn[27], line 13\u001b[1;36m\u001b[0m\n\u001b[1;33m    s.add(j)\u001b[0m\n\u001b[1;37m    ^\u001b[0m\n\u001b[1;31mIndentationError\u001b[0m\u001b[1;31m:\u001b[0m expected an indented block after 'if' statement on line 12\n"
     ]
    }
   ],
   "source": [
    "###36. Write a Python program to get unique elements in nested tuple\n",
    "##Sample Output\n",
    "##[ (1, 3, 5), (4, 5, 7), (1, 2, 6), (10, 9), (10,) ]\n",
    "##Unique Element in Nested Tuples : [1, 3, 5, 4, 7, 2, 6, 10, 9]\n",
    "\n",
    "val = [(1, 3, 5), (4, 5, 7), (1, 2, 6), (10, 9), (10,)]\n",
    "print(\"The original ljst : \" ,val)\n",
    "res = []\n",
    "s = set()\n",
    "for i in val:\n",
    "    for j in i:\n",
    "        if not j in s:\n",
    "        s.add(j)\n",
    "        res.append(j)\n",
    "print(\"Unique Element in Nested Tuples : \" ,res)"
   ]
  },
  {
   "cell_type": "code",
   "execution_count": 28,
   "id": "f70f0551",
   "metadata": {},
   "outputs": [
    {
     "name": "stdout",
     "output_type": "stream",
     "text": [
      "Tuple 1 :  ((18, 23, 2, 9),)\n",
      "Tuple 2 :  ((10, 3, 11),)\n",
      "Tuples after Concatenating :  ((18, 23, 2, 9), (10, 3, 11))\n"
     ]
    }
   ],
   "source": [
    "##37. Write a Python program to Concatenate tuples to nested tuples\n",
    "##Sample Output\n",
    "###Tuple 1 : ((18, 23, 2, 9),)\n",
    "##Tuple 2 : ((10, 3, 11),)\n",
    "##Tuples after Concatenating : ((18, 23, 2, 9), (10, 3, 11))\n",
    "\n",
    "tup1 = (18 , 23 , 2 , 9),\n",
    "tup2 = (10 , 3 , 11),\n",
    "print(\"Tuple 1 : \",tup1)\n",
    "print(\"Tuple 2 : \",tup2)\n",
    "res = tup1 + tup2\n",
    "print(\"Tuples after Concatenating : \",res)"
   ]
  },
  {
   "cell_type": "code",
   "execution_count": 29,
   "id": "2fb256ed",
   "metadata": {},
   "outputs": [
    {
     "name": "stdout",
     "output_type": "stream",
     "text": [
      "Original List :  [(2, 7), (3, 7), (2, 5), (8, 7), (6, 5), (9, 8)]\n",
      "Sorted List of tuples :  [(2, 7), (3, 7), (8, 7), (2, 5), (6, 5), (9, 8)]\n"
     ]
    }
   ],
   "source": [
    "###38. Write a Python program to Sort by Frequency of second element in Tuple List\n",
    "###Sample Output\n",
    "##[ (2, 7), (3, 7), (2, 5), (8, 7), (6, 5), (9, 8) ]\n",
    "##Sorted List of tuples : [ (2, 7), (3, 7), (8, 7), (2, 5), (6, 5), (9, 8) ]\n",
    "\n",
    "from collections import Counter\n",
    "val = [ (2, 7), (3, 7), (2, 5), (8, 7), (6, 5), (9, 8)]\n",
    "print(\"Original List : \" , val)\n",
    "freq = Counter(val for key, val in val)\n",
    "res = sorted(val, key = lambda e: freq[e[1]], reverse = True)\n",
    "print(\"Sorted List of tuples : \" , res)"
   ]
  },
  {
   "cell_type": "code",
   "execution_count": 30,
   "id": "b22482c2",
   "metadata": {},
   "outputs": [
    {
     "name": "stdout",
     "output_type": "stream",
     "text": [
      "Original Tuple is :  ([10, 50, 60], [80, 20, 30], [70, 100, 40], (90,))\n",
      "Tuple after sorting list :  ([10, 50, 60], [20, 30, 80], [40, 70, 100], [90])\n"
     ]
    }
   ],
   "source": [
    "###39. Write a Python program to Sort lists in tuple\n",
    "##Sample Output\n",
    "##( [10, 50, 60], [80, 20, 30], [70, 100, 40], (90,) )\n",
    "##Tuple after sorting list : ( [10, 50, 60], [20, 30, 80], [40, 70, 100], [90] )\n",
    "\n",
    "val = ([10, 50, 60], [80, 20, 30], [70, 100, 40],(90,))\n",
    "print(\"Original Tuple is : \" , val)\n",
    "res = tuple((sorted(i) for i in val))\n",
    "print(\"Tuple after sorting list : \",res)"
   ]
  },
  {
   "cell_type": "code",
   "execution_count": 31,
   "id": "cc370744",
   "metadata": {},
   "outputs": [
    {
     "name": "stdout",
     "output_type": "stream",
     "text": [
      "Original List :  [('B', 68), ('D', 70), ('A', 67), ('C', 69)]\n",
      "The Ordered Tuple List :  [('A', 67), ('B', 68), ('C', 69), ('D', 70)]\n"
     ]
    }
   ],
   "source": [
    "##40. Write a Python program to Order Tuples using external List\n",
    "###Sample Output\n",
    "##[ ('B', 68), ('D', 70), ('A', 67), ('C', 69) ]\n",
    "##Ordered Tuple List : [ ('A', 67), ('B', 68), ('C', 69), ('D', 70) ]\n",
    "\n",
    "val = [('B', 68), ('D', 70), ('A', 67), ('C', 69)]\n",
    "print(\"Original List : \", val)\n",
    "ord_list = ['A', 'B', 'C', 'D']\n",
    "temp = dict(val)\n",
    "res = [(key, temp[key]) for key in ord_list] \n",
    "print(\"The Ordered Tuple List : \" , res)"
   ]
  },
  {
   "cell_type": "code",
   "execution_count": 34,
   "id": "7c82ddc1",
   "metadata": {},
   "outputs": [
    {
     "name": "stdout",
     "output_type": "stream",
     "text": [
      "The original list is : [('B', 68), ('D', 70), ('A', 67), ('C', 69)]\n",
      "The filtered tuples : [('D', 70), ('A', 67)]\n"
     ]
    }
   ],
   "source": [
    "###41. Write a Python program to Filter Tuples by Kth element from List Sample Output\n",
    "##[ ('B', 68), ('D', 70), ('A', 67), ('C', 69) ]\n",
    "##List of kth elements to filter = [67 , 70 , 71, 75]\n",
    "##Kth element index = 1\n",
    "###Filtered tuples : [('D', 70), ('A', 67)]\n",
    "\n",
    "val = [('B', 68), ('D', 70), ('A', 67), ('C', 69)]\n",
    "print(\"The original list is : \" + str(val))\n",
    "kth = [67 , 70 , 71, 75]\n",
    "K = 1\n",
    "res = [s for s in val if s[K] in kth]\n",
    "print(\"The filtered tuples : \" + str(res))"
   ]
  },
  {
   "cell_type": "code",
   "execution_count": 35,
   "id": "61165c4b",
   "metadata": {},
   "outputs": [
    {
     "name": "stdout",
     "output_type": "stream",
     "text": [
      "List :  [(23, 18), (9, 2), (2, 3), (9, 18), (23, 2)]\n",
      "Nearest Tuple :  (23, 18)\n"
     ]
    }
   ],
   "source": [
    "##42. Write a Python program to Closest Pair to Kth index element in Tuple\n",
    "##Sample Output\n",
    "##[ (23, 18), (9, 2), (2, 3), (9, 18), (23, 2) ]\n",
    "##Given Tuple = (20, 2)\n",
    "##Kth Element Index = 1\n",
    "##Nearest Tuple : (23, 18)\n",
    "\n",
    "val = [(23, 18), (9, 2), (2, 3), (9, 18), (23, 2)]\n",
    "print(\"List : \" ,val)\n",
    "t = (20, 2)\n",
    "K = 1\n",
    "res = min(range(len(val)), key = lambda sub: abs(val[sub][K - 1] - t[K - 1]))\n",
    "print(\"Nearest Tuple : \" ,val[res])"
   ]
  },
  {
   "cell_type": "code",
   "execution_count": 36,
   "id": "2cd82648",
   "metadata": {},
   "outputs": [
    {
     "name": "stdout",
     "output_type": "stream",
     "text": [
      "List 1 :  [(3, 4), (5, 6), (9, 10), (4, 5)]\n",
      "List 2 :  [(5, 4), (3, 4), (6, 5), (9, 11)]\n",
      "List after intersection :  {(4, 5), (5, 6), (3, 4)}\n"
     ]
    }
   ],
   "source": [
    "##43. Write a Python program to Tuple List intersection (Order irrespective) Sample Output\n",
    "##List 1 : [ (3, 4), (5, 6), (9, 10), (4, 5) ]\n",
    "##List 2 : [ (5, 4), (3, 4), (6, 5), (9, 11) ]\n",
    "##Intersection : { (4, 5), (5, 6), (3, 4) }\n",
    "\n",
    "val1 = [(3, 4), (5, 6), (9, 10), (4, 5)]\n",
    "val2 = [(5, 4), (3, 4), (6, 5), (9, 11)]\n",
    "print(\"List 1 : \",val1)\n",
    "print(\"List 2 : \",val2)\n",
    "res = set([tuple(sorted(ele)) for ele in val1]) & set([tuple(sorted(ele)) for ele in val2])\n",
    "print(\"List after intersection : \",res)"
   ]
  },
  {
   "cell_type": "code",
   "execution_count": 37,
   "id": "4b7113aa",
   "metadata": {},
   "outputs": [
    {
     "name": "stdout",
     "output_type": "stream",
     "text": [
      "list 2 :  [('D', 68), ('C', 67), ('A', 65)]\n",
      "list 1 :  [('A', 65), ('D', 68), ('B', 66)]\n",
      "Intersection of data records :  [('A', 65), ('D', 68)]\n"
     ]
    }
   ],
   "source": [
    "###44. Write a Python program to Intersection in Tuple Records Data Sample Output\n",
    "##list 1 : [ ('A', 65), ('D', 68), ('B', 66) ]\n",
    "##list 2 : [ ('D', 68), ('C', 67), ('A', 65) ]\n",
    "##Intersection of data records : [ ('A', 65), ('D', 68) ]\n",
    "\n",
    "l1 = [('A' , 65), ('D' , 68), ('B' , 66)]\n",
    "l2 = [('D' , 68), ('C' , 67), ('A' , 65)]\n",
    "print(\"list 2 : \" , l2)\n",
    "print(\"list 1 : \" , l1)\n",
    "res = [i for i in l1\n",
    "    for j in l2 if i == j]\n",
    "print(\"Intersection of data records : \",res)"
   ]
  },
  {
   "cell_type": "code",
   "execution_count": 38,
   "id": "b44804f4",
   "metadata": {},
   "outputs": [
    {
     "name": "stdout",
     "output_type": "stream",
     "text": [
      "Original list :  [(3, 4), (1, 2), (4, 3), (5, 6)]\n",
      "Unique tuples Frequency : [(1, 2), (3, 4), (5, 6)]\n",
      "Unique tuples Frequency Count :  3\n"
     ]
    }
   ],
   "source": [
    "##45. Write a Python program to Unique Tuple Frequency (Order Irrespective)\n",
    "##Sample Output\n",
    "##[ (3, 4), (1, 2), (4, 3), (5, 6) ]\n",
    "##Unique tuples Frequency : [(1, 2), (3, 4), (5, 6)]\n",
    "##Unique tuples Frequency Count : 3\n",
    "\n",
    "val = [(3, 4), (1, 2), (4, 3), (5, 6)]\n",
    "print(\"Original list : \",val)\n",
    "l = list(set(tuple(sorted(s)) for s in val))\n",
    "res = len(l)\n",
    "print(\"Unique tuples Frequency :\",l)\n",
    "print(\"Unique tuples Frequency Count : \" ,res)"
   ]
  },
  {
   "cell_type": "code",
   "execution_count": 39,
   "id": "0d518a3d",
   "metadata": {},
   "outputs": [
    {
     "name": "stdout",
     "output_type": "stream",
     "text": [
      "Tuple :  (1, (2, (3, (4, (5, None)))))\n",
      "Summation of 1st positions :  15\n"
     ]
    }
   ],
   "source": [
    "##46. Write a Python program to Skew Nested Tuple Summation Sample Output\n",
    "##(1, (2, (3, (4, (5, None)))))\n",
    "##Summation of 1st positions : 15\n",
    "\n",
    "val = (1, (2, (3, (4, (5, None)))))\n",
    "print(\"Tuple : \",val)\n",
    "res = 0\n",
    "while val:\n",
    "    res += val[0]\n",
    "    val = val[1]\n",
    "print(\"Summation of 1st positions : \" ,res)"
   ]
  },
  {
   "cell_type": "code",
   "execution_count": 40,
   "id": "0fe0a434",
   "metadata": {},
   "outputs": [
    {
     "name": "stdout",
     "output_type": "stream",
     "text": [
      "Original tuple :  (1, 0, 1, 0)\n",
      "Decimal number is :  10\n"
     ]
    }
   ],
   "source": [
    "###47. Write a Python program to Convert Binary tuple to Integer Sample Output\n",
    "##(1, 0, 1, 0)\n",
    "##Decimal number is : 10\n",
    "\n",
    "val = (1 , 0 , 1 , 0)\n",
    "print(\"Original tuple : \" ,val)\n",
    "res = int(\"\".join(str(i) for i in val), 2)\n",
    "print(\"Decimal number is : \" ,res)"
   ]
  },
  {
   "cell_type": "code",
   "execution_count": 41,
   "id": "3e7c0ed6",
   "metadata": {},
   "outputs": [
    {
     "name": "stdout",
     "output_type": "stream",
     "text": [
      "Tuple 1 :  (10, 4, 6, 9)\n",
      "Tuple 2 :  (5, 2, 3, 3)\n",
      "The XOR tuple : (15, 6, 5, 10)\n"
     ]
    }
   ],
   "source": [
    "##48. Write a Python program to Tuple XOR operation Sample Output\n",
    "###Tuple 1 : (10, 4, 6, 9)\n",
    "###Tuple 2 : (5, 2, 3, 3)\n",
    "###XOR tuple : (15, 6, 5, 10)\n",
    "\n",
    "tup1 = (10, 4, 6, 9)\n",
    "tup2 = (5, 2, 3, 3)\n",
    "print(\"Tuple 1 : \" ,tup1)\n",
    "print(\"Tuple 2 : \" ,tup2)\n",
    "res = tuple(e1 ^ e2 for e1, e2 in zip(tup1, tup2))\n",
    "print(\"The XOR tuple : \" + str(res))"
   ]
  },
  {
   "cell_type": "code",
   "execution_count": 43,
   "id": "fe22536e",
   "metadata": {},
   "outputs": [
    {
     "name": "stdout",
     "output_type": "stream",
     "text": [
      "Tuple 1 :  (10, 4, 6, 9)\n",
      "Tuple 2 :  (5, 2, 3, 3)\n",
      "AND operation Between Tuple :  (0, 0, 2, 1)\n"
     ]
    }
   ],
   "source": [
    "###49. Write a Python program to AND operation between Tuples Sample Output\n",
    "##Tuple 1 : (10, 4, 6, 9)\n",
    "##Tuple 2 : (5, 2, 3, 3)\n",
    "##AND operation Between Tuple : (0, 0, 2, 1)\n",
    "\n",
    "tup1 = (10, 4, 6, 9)\n",
    "tup2 = (5, 2, 3, 3)\n",
    "print(\"Tuple 1 : \",tup1)\n",
    "print(\"Tuple 2 : \",tup2)\n",
    "res = tuple(map(lambda i, j: i & j, tup1, tup2))\n",
    "print(\"AND operation Between Tuple : \",res)"
   ]
  },
  {
   "cell_type": "code",
   "execution_count": 44,
   "id": "1ac8022a",
   "metadata": {},
   "outputs": [
    {
     "name": "stdout",
     "output_type": "stream",
     "text": [
      "Tuple 1 :  (10, 4, 6, 9)\n",
      "Tuple 2 :  (5, 2, 3, 3)\n",
      "The AND tuple :  (0, 0, 2, 1)\n"
     ]
    }
   ],
   "source": [
    "##50. Write a Python program to Elementwise AND in tuples Sample Output\n",
    "##Tuple 1 : (10, 4, 6, 9)\n",
    "##Tuple 2 : (5, 2, 3, 3)\n",
    "##Elementwise AND Tuple : (0, 0, 2, 1)\n",
    "\n",
    "tup1 = (10, 4, 6, 9)\n",
    "tup2 = (5, 2, 3, 3)\n",
    "print(\"Tuple 1 : \",tup1)\n",
    "print(\"Tuple 2 : \",tup2)\n",
    "res = tuple(e1 & e2 for e1, e2 in zip(tup1, tup2))\n",
    "print(\"The AND tuple : \",res)"
   ]
  },
  {
   "cell_type": "code",
   "execution_count": null,
   "id": "b790871a",
   "metadata": {},
   "outputs": [],
   "source": []
  }
 ],
 "metadata": {
  "kernelspec": {
   "display_name": "Python 3 (ipykernel)",
   "language": "python",
   "name": "python3"
  },
  "language_info": {
   "codemirror_mode": {
    "name": "ipython",
    "version": 3
   },
   "file_extension": ".py",
   "mimetype": "text/x-python",
   "name": "python",
   "nbconvert_exporter": "python",
   "pygments_lexer": "ipython3",
   "version": "3.11.4"
  }
 },
 "nbformat": 4,
 "nbformat_minor": 5
}
